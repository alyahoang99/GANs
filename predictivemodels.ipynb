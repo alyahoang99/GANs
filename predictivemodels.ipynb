{
  "nbformat": 4,
  "nbformat_minor": 0,
  "metadata": {
    "colab": {
      "provenance": [],
      "mount_file_id": "11nvyNm3fanYh40W8bjJ2mDMWK4YC8zDG",
      "authorship_tag": "ABX9TyOe/MI+ee7FL9gCybTjP0ED",
      "include_colab_link": true
    },
    "kernelspec": {
      "name": "python3",
      "display_name": "Python 3"
    },
    "language_info": {
      "name": "python"
    }
  },
  "cells": [
    {
      "cell_type": "markdown",
      "metadata": {
        "id": "view-in-github",
        "colab_type": "text"
      },
      "source": [
        "<a href=\"https://colab.research.google.com/github/alyahoang99/GANs/blob/main/predictivemodels.ipynb\" target=\"_parent\"><img src=\"https://colab.research.google.com/assets/colab-badge.svg\" alt=\"Open In Colab\"/></a>"
      ]
    },
    {
      "cell_type": "code",
      "execution_count": null,
      "metadata": {
        "id": "ZHzBazNaTmWF"
      },
      "outputs": [],
      "source": [
        "import pandas as pd\n",
        "import numpy as np\n",
        "from sklearn.preprocessing import MinMaxScaler\n",
        "from sklearn.metrics import mean_absolute_error, mean_squared_error, r2_score\n",
        "from sklearn.model_selection import train_test_split\n",
        "import xgboost as xgb\n",
        "from tensorflow.keras.models import Sequential\n",
        "from tensorflow.keras.layers import LSTM, Dense\n",
        "from tensorflow.keras.callbacks import EarlyStopping"
      ]
    },
    {
      "cell_type": "code",
      "source": [
        "def create_lag_features(df, lags=7):\n",
        "    df_lagged = pd.DataFrame()\n",
        "    for col in df.columns:\n",
        "        for lag in range(1, lags + 1):\n",
        "            df_lagged[f'{col}_lag{lag}'] = df[col].shift(lag)\n",
        "    df_lagged['target'] = df['Value']  # target stays unshifted\n",
        "    df_lagged.dropna(inplace=True)\n",
        "    return df_lagged"
      ],
      "metadata": {
        "id": "ORSGJQKlnXTn"
      },
      "execution_count": null,
      "outputs": []
    },
    {
      "cell_type": "code",
      "source": [
        "def split_features_targets(df, target_col='target'):\n",
        "    X = df.drop(columns=[target_col])\n",
        "    y = df[target_col]\n",
        "    return X, y"
      ],
      "metadata": {
        "id": "mPSoGzBBVoUY"
      },
      "execution_count": null,
      "outputs": []
    },
    {
      "cell_type": "code",
      "source": [
        "def evaluate_model(y_true, y_pred, label=\"\"):\n",
        "    mae = mean_absolute_error(y_true, y_pred)\n",
        "    rmse = np.sqrt(mean_squared_error(y_true, y_pred))\n",
        "    r2 = r2_score(y_true, y_pred)\n",
        "    print(f\"📊 {label} — MAE: {mae:.4f}, RMSE: {rmse:.4f}, R²: {r2:.4f}\")\n",
        "    return mae, rmse, r2"
      ],
      "metadata": {
        "id": "gL4b0KDxVqia"
      },
      "execution_count": null,
      "outputs": []
    },
    {
      "cell_type": "code",
      "source": [
        "# ----------------------------\n",
        "# Load Data\n",
        "# ----------------------------\n",
        "\n",
        "# Real data with timestamp\n",
        "df_real = pd.read_csv('/content/drive/MyDrive/Colab Notebooks/GANs/resampleddata (1).csv', parse_dates=['Timestamp'])\n",
        "df_real = df_real[['Value', 'Value_HeatPump', 'Value_OtherAppliances']]\n",
        "\n",
        "# Generated data (already scaled)\n",
        "df_gen = pd.read_csv('/content/drive/MyDrive/Colab Notebooks/GANs/RGANdata.csv')"
      ],
      "metadata": {
        "id": "tnwoF_rFVtNn"
      },
      "execution_count": null,
      "outputs": []
    },
    {
      "cell_type": "code",
      "source": [
        "# ----------------------------\n",
        "# Scale both datasets\n",
        "# ----------------------------\n",
        "\n",
        "scaler = MinMaxScaler()\n",
        "real_scaled = pd.DataFrame(scaler.fit_transform(df_real), columns=df_real.columns)\n",
        "gen_scaled = df_gen.copy()  # already scaled"
      ],
      "metadata": {
        "id": "2rlILeBviu3_"
      },
      "execution_count": null,
      "outputs": []
    },
    {
      "cell_type": "code",
      "source": [
        "lags = 7\n",
        "real_lagged = create_lag_features(real_scaled, lags=lags)\n",
        "gen_lagged = create_lag_features(gen_scaled, lags=lags)\n"
      ],
      "metadata": {
        "id": "vYzTIf-mWHAD"
      },
      "execution_count": null,
      "outputs": []
    },
    {
      "cell_type": "code",
      "source": [
        "# Prepare X and y\n",
        "# ----------------------------\n",
        "\n",
        "X_real, y_real = split_features_targets(real_lagged)\n",
        "X_gen, y_gen = split_features_targets(gen_lagged)\n",
        "\n",
        "# Split (time-based)\n",
        "split_idx_real = int(0.8 * len(X_real))\n",
        "Xr_train, Xr_test = X_real.iloc[:split_idx_real], X_real.iloc[split_idx_real:]\n",
        "yr_train, yr_test = y_real.iloc[:split_idx_real], y_real.iloc[split_idx_real:]\n",
        "\n",
        "split_idx_gen = int(0.8 * len(X_gen))\n",
        "Xg_train, Xg_test = X_gen.iloc[:split_idx_gen], X_gen.iloc[split_idx_gen:]\n",
        "yg_train, yg_test = y_gen.iloc[:split_idx_gen], y_gen.iloc[split_idx_gen:]\n"
      ],
      "metadata": {
        "id": "Z1qQdQrjWJRK"
      },
      "execution_count": null,
      "outputs": []
    },
    {
      "cell_type": "code",
      "source": [
        "# XGBoost Models\n",
        "# ----------------------------\n",
        "\n",
        "xgb_real = xgb.XGBRegressor(n_estimators=100, random_state=42)\n",
        "xgb_real.fit(Xr_train, yr_train)\n",
        "yr_pred_xgb = xgb_real.predict(Xr_test)\n",
        "evaluate_model(yr_test, yr_pred_xgb, label=\"XGBoost (Real Data)\")\n",
        "\n",
        "xgb_gen = xgb.XGBRegressor(n_estimators=100, random_state=42)\n",
        "xgb_gen.fit(Xg_train, yg_train)\n",
        "yg_pred_xgb = xgb_gen.predict(Xg_test)\n",
        "evaluate_model(yg_test, yg_pred_xgb, label=\"XGBoost (Generated Data)\")\n",
        "\n"
      ],
      "metadata": {
        "colab": {
          "base_uri": "https://localhost:8080/"
        },
        "id": "bha7tFPoWM2l",
        "outputId": "cc6c1d2d-95b9-45b4-8583-2a2c7424ca5a"
      },
      "execution_count": null,
      "outputs": [
        {
          "output_type": "stream",
          "name": "stdout",
          "text": [
            "📊 XGBoost (Real Data) — MAE: 0.0395, RMSE: 0.0568, R²: 0.8951\n",
            "📊 XGBoost (Generated Data) — MAE: 0.1416, RMSE: 0.1937, R²: 0.4796\n"
          ]
        },
        {
          "output_type": "execute_result",
          "data": {
            "text/plain": [
              "(0.14160121956609373, np.float64(0.19367389609477315), 0.47962736728367295)"
            ]
          },
          "metadata": {},
          "execution_count": 9
        }
      ]
    },
    {
      "cell_type": "code",
      "source": [
        "def reshape_for_lstm(X, y, timesteps):\n",
        "    original_features = X.shape[1] // timesteps\n",
        "    X_seq = X.values.reshape((X.shape[0], timesteps, original_features))\n",
        "    return X_seq, y.values"
      ],
      "metadata": {
        "id": "JaoA_V1U0LUJ"
      },
      "execution_count": null,
      "outputs": []
    },
    {
      "cell_type": "code",
      "source": [
        "# LSTM Models\n",
        "# ----------------------------\n",
        "\n",
        "def reshape_for_lstm(X, y, timesteps, original_features=3):\n",
        "    expected_shape = timesteps * original_features\n",
        "    assert X.shape[1] == expected_shape, f\"Expected {expected_shape} features, got {X.shape[1]}\"\n",
        "    X_seq = X.values.reshape((X.shape[0], timesteps, original_features))\n",
        "    return X_seq, y.values\n",
        "\n",
        "# Reshape (features must be consistent with lags)\n",
        "Xr_train_lstm, yr_train_lstm = reshape_for_lstm(Xr_train, yr_train, timesteps=lags)\n",
        "Xr_test_lstm, yr_test_lstm = reshape_for_lstm(Xr_test, yr_test, timesteps=lags)\n",
        "\n",
        "Xg_train_lstm, yg_train_lstm = reshape_for_lstm(Xg_train, yg_train, timesteps=lags)\n",
        "Xg_test_lstm, yg_test_lstm = reshape_for_lstm(Xg_test, yg_test, timesteps=lags)\n",
        "\n",
        "def build_lstm(input_shape):\n",
        "    model = Sequential([\n",
        "        LSTM(64, activation='tanh', input_shape=input_shape),\n",
        "        Dense(1)\n",
        "    ])\n",
        "    model.compile(optimizer='adam', loss='mse')\n",
        "    return model\n",
        "\n",
        "lstm_real = build_lstm(Xr_train_lstm.shape[1:])\n",
        "lstm_real.fit(Xr_train_lstm, yr_train_lstm, epochs=50, batch_size=16,\n",
        "              validation_split=0.1, verbose=0, callbacks=[EarlyStopping(patience=5)])\n",
        "yr_pred_lstm = lstm_real.predict(Xr_test_lstm).flatten()\n",
        "evaluate_model(yr_test_lstm, yr_pred_lstm, label=\"LSTM (Real Data)\")\n",
        "\n",
        "lstm_gen = build_lstm(Xg_train_lstm.shape[1:])\n",
        "lstm_gen.fit(Xg_train_lstm, yg_train_lstm, epochs=50, batch_size=16,\n",
        "             validation_split=0.1, verbose=0, callbacks=[EarlyStopping(patience=5)])\n",
        "yg_pred_lstm = lstm_gen.predict(Xg_test_lstm).flatten()\n",
        "evaluate_model(yg_test_lstm, yg_pred_lstm, label=\"LSTM (Generated Data)\")"
      ],
      "metadata": {
        "colab": {
          "base_uri": "https://localhost:8080/"
        },
        "id": "EOSAfcFZWQQm",
        "outputId": "da90ac10-0f05-45a2-ae56-3e1832492879"
      },
      "execution_count": null,
      "outputs": [
        {
          "output_type": "stream",
          "name": "stderr",
          "text": [
            "/usr/local/lib/python3.11/dist-packages/keras/src/layers/rnn/rnn.py:200: UserWarning: Do not pass an `input_shape`/`input_dim` argument to a layer. When using Sequential models, prefer using an `Input(shape)` object as the first layer in the model instead.\n",
            "  super().__init__(**kwargs)\n"
          ]
        },
        {
          "output_type": "stream",
          "name": "stdout",
          "text": [
            "\u001b[1m7/7\u001b[0m \u001b[32m━━━━━━━━━━━━━━━━━━━━\u001b[0m\u001b[37m\u001b[0m \u001b[1m0s\u001b[0m 36ms/step\n",
            "📊 LSTM (Real Data) — MAE: 0.0447, RMSE: 0.0645, R²: 0.8647\n"
          ]
        },
        {
          "output_type": "stream",
          "name": "stderr",
          "text": [
            "/usr/local/lib/python3.11/dist-packages/keras/src/layers/rnn/rnn.py:200: UserWarning: Do not pass an `input_shape`/`input_dim` argument to a layer. When using Sequential models, prefer using an `Input(shape)` object as the first layer in the model instead.\n",
            "  super().__init__(**kwargs)\n"
          ]
        },
        {
          "output_type": "stream",
          "name": "stdout",
          "text": [
            "\u001b[1m44/44\u001b[0m \u001b[32m━━━━━━━━━━━━━━━━━━━━\u001b[0m\u001b[37m\u001b[0m \u001b[1m0s\u001b[0m 7ms/step\n",
            "📊 LSTM (Generated Data) — MAE: 0.1295, RMSE: 0.1795, R²: 0.5532\n"
          ]
        },
        {
          "output_type": "execute_result",
          "data": {
            "text/plain": [
              "(0.1294653652981722, np.float64(0.17947086613719068), 0.5531516205989564)"
            ]
          },
          "metadata": {},
          "execution_count": 11
        }
      ]
    }
  ]
}