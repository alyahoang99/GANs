{
  "cells": [
    {
      "cell_type": "markdown",
      "metadata": {
        "id": "view-in-github",
        "colab_type": "text"
      },
      "source": [
        "<a href=\"https://colab.research.google.com/github/alyahoang99/GANs/blob/main/GAN3.ipynb\" target=\"_parent\"><img src=\"https://colab.research.google.com/assets/colab-badge.svg\" alt=\"Open In Colab\"/></a>"
      ]
    },
    {
      "cell_type": "markdown",
      "metadata": {
        "id": "Q0JhC--2f9Ac"
      },
      "source": [
        "## Data Preprocessing"
      ]
    },
    {
      "cell_type": "code",
      "execution_count": 3,
      "metadata": {
        "id": "Ahd0m9k1HRpa"
      },
      "outputs": [],
      "source": [
        "import pandas as pd\n",
        "import numpy as np\n",
        "import tensorflow as tf\n",
        "from tensorflow.keras import layers\n",
        "from sklearn.preprocessing import MinMaxScaler\n",
        "import matplotlib.pyplot as plt"
      ]
    },
    {
      "cell_type": "markdown",
      "metadata": {
        "id": "ubW17GnhgBVh"
      },
      "source": [
        "## Hyperparemeters explanation"
      ]
    },
    {
      "cell_type": "code",
      "execution_count": 4,
      "metadata": {
        "id": "LGE7kxQGdyvj"
      },
      "outputs": [],
      "source": [
        "# hyperparameters definition\n",
        "# === Data shape ===\n",
        "SEQ_LENGTH = 7           # Length of each time series sequence (7 days)\n",
        "FEATURE_DIM = 3        # Number of features\n",
        "\n",
        "# === Latent space ===\n",
        "LATENT_DIM = 100         # Dimensionality of the random noise vector z\n",
        "\n",
        "# === Training ===\n",
        "BATCH_SIZE = 100        # Number of samples per training batch\n",
        "EPOCHS = 300          # Number of training epochs\n",
        "LEARNING_RATE = 1e-5  # Learning rate for both Generator and Discriminator\n",
        "BETA_1 = 0.2             # Beta1 hyperparameter for Adam optimizer (helps GAN stability)"
      ]
    },
    {
      "cell_type": "code",
      "execution_count": 5,
      "metadata": {
        "colab": {
          "base_uri": "https://localhost:8080/"
        },
        "id": "a2TE6eRpHmvI",
        "outputId": "9b003f7c-caba-4fc2-a9bd-2a91e666c028"
      },
      "outputs": [
        {
          "output_type": "stream",
          "name": "stdout",
          "text": [
            "Sequence data shape: (1011, 7, 3)\n"
          ]
        }
      ],
      "source": [
        "# data preprocess\n",
        "# Load dataset\n",
        "\n",
        "df = pd.read_csv(\"/content/drive/MyDrive/Colab Notebooks/GANs/resampleddata (1).csv\", parse_dates=[\"Timestamp\"])\n",
        "\n",
        "\n",
        "\n",
        "# Select relevant features\n",
        "features = ['Value', 'Value_HeatPump', 'Value_OtherAppliances']\n",
        "data = df[features].values.astype(np.float32)\n",
        "\n",
        "# Normalize data to [-1, 1] for tanh\n",
        "scaler = MinMaxScaler(feature_range=(0, 1))\n",
        "data = scaler.fit_transform(data)\n",
        "\n",
        "def create_sequences(data, seq_len):\n",
        "    sequences = []\n",
        "    for i in range(len(data) - seq_len + 1):\n",
        "        seq = data[i:i + seq_len]\n",
        "        if len(seq) == seq_len:\n",
        "            sequences.append(seq)\n",
        "    return np.array(sequences)\n",
        "\n",
        "sequence_data = create_sequences(data, SEQ_LENGTH)\n",
        "print(\"Sequence data shape:\", sequence_data.shape)  # (num_samples, 7, 5)\n"
      ]
    },
    {
      "cell_type": "code",
      "source": [
        "data"
      ],
      "metadata": {
        "id": "MHAJjulaaRt_",
        "outputId": "60f8ae9a-7bfc-410f-e945-320797470a5a",
        "colab": {
          "base_uri": "https://localhost:8080/"
        }
      },
      "execution_count": 6,
      "outputs": [
        {
          "output_type": "execute_result",
          "data": {
            "text/plain": [
              "array([[0.        , 0.02659541, 0.003696  ],\n",
              "       [0.61078984, 0.50875247, 0.6995842 ],\n",
              "       [0.6552573 , 0.49473614, 0.8162228 ],\n",
              "       ...,\n",
              "       [0.06035511, 0.08418401, 0.05910306],\n",
              "       [0.00939157, 0.00175665, 0.05771706],\n",
              "       [0.00621854, 0.        , 0.05309705]], dtype=float32)"
            ]
          },
          "metadata": {},
          "execution_count": 6
        }
      ]
    },
    {
      "cell_type": "code",
      "execution_count": 7,
      "metadata": {
        "id": "yK7w3sLEhlq2"
      },
      "outputs": [],
      "source": [
        "\n",
        "BUFFER_SIZE = 1000  # Optional, for shuffling\n",
        "\n",
        "dataset = tf.data.Dataset.from_tensor_slices(sequence_data)\n",
        "dataset = dataset.shuffle(BUFFER_SIZE).batch(BATCH_SIZE, drop_remainder=True)"
      ]
    },
    {
      "cell_type": "code",
      "execution_count": 8,
      "metadata": {
        "colab": {
          "base_uri": "https://localhost:8080/"
        },
        "id": "DhdNEuN-eFc5",
        "outputId": "0037ca0d-65e1-4f52-d303-861594403bd8"
      },
      "outputs": [
        {
          "output_type": "execute_result",
          "data": {
            "text/plain": [
              "<_BatchDataset element_spec=TensorSpec(shape=(100, 7, 3), dtype=tf.float32, name=None)>"
            ]
          },
          "metadata": {},
          "execution_count": 8
        }
      ],
      "source": [
        "dataset"
      ]
    },
    {
      "cell_type": "code",
      "execution_count": 9,
      "metadata": {
        "colab": {
          "base_uri": "https://localhost:8080/"
        },
        "id": "Q9AIrDA3der4",
        "outputId": "3043ba4a-50cb-4860-bdc3-b1aa0de63d2a"
      },
      "outputs": [
        {
          "output_type": "execute_result",
          "data": {
            "text/plain": [
              "array([[[0.        , 0.02659541, 0.003696  ],\n",
              "        [0.61078984, 0.50875247, 0.6995842 ],\n",
              "        [0.6552573 , 0.49473614, 0.8162228 ],\n",
              "        ...,\n",
              "        [0.6072642 , 0.5189239 , 0.6781672 ],\n",
              "        [0.52924365, 0.47456542, 0.56613207],\n",
              "        [0.5474042 , 0.43638593, 0.6573607 ]],\n",
              "\n",
              "       [[0.61078984, 0.50875247, 0.6995842 ],\n",
              "        [0.6552573 , 0.49473614, 0.8162228 ],\n",
              "        [0.6121251 , 0.5125975 , 0.6973567 ],\n",
              "        ...,\n",
              "        [0.52924365, 0.47456542, 0.56613207],\n",
              "        [0.5474042 , 0.43638593, 0.6573607 ],\n",
              "        [0.46323264, 0.42569864, 0.486569  ]],\n",
              "\n",
              "       [[0.6552573 , 0.49473614, 0.8162228 ],\n",
              "        [0.6121251 , 0.5125975 , 0.6973567 ],\n",
              "        [0.6072642 , 0.5189239 , 0.6781672 ],\n",
              "        ...,\n",
              "        [0.5474042 , 0.43638593, 0.6573607 ],\n",
              "        [0.46323264, 0.42569864, 0.486569  ],\n",
              "        [0.46894106, 0.43144765, 0.4914035 ]],\n",
              "\n",
              "       ...,\n",
              "\n",
              "       [[0.05683702, 0.00990111, 0.15114015],\n",
              "        [0.07165201, 0.02361034, 0.16531366],\n",
              "        [0.06604858, 0.02319268, 0.15354915],\n",
              "        ...,\n",
              "        [0.02084599, 0.02021988, 0.05811306],\n",
              "        [0.01542258, 0.01141207, 0.05801406],\n",
              "        [0.06035511, 0.08418401, 0.05910306]],\n",
              "\n",
              "       [[0.07165201, 0.02361034, 0.16531366],\n",
              "        [0.06604858, 0.02319268, 0.15354915],\n",
              "        [0.03572099, 0.02421227, 0.08547008],\n",
              "        ...,\n",
              "        [0.01542258, 0.01141207, 0.05801406],\n",
              "        [0.06035511, 0.08418401, 0.05910306],\n",
              "        [0.00939157, 0.00175665, 0.05771706]],\n",
              "\n",
              "       [[0.06604858, 0.02319268, 0.15354915],\n",
              "        [0.03572099, 0.02421227, 0.08547008],\n",
              "        [0.02084599, 0.02021988, 0.05811306],\n",
              "        ...,\n",
              "        [0.06035511, 0.08418401, 0.05910306],\n",
              "        [0.00939157, 0.00175665, 0.05771706],\n",
              "        [0.00621854, 0.        , 0.05309705]]], dtype=float32)"
            ]
          },
          "metadata": {},
          "execution_count": 9
        }
      ],
      "source": [
        "sequence_data"
      ]
    },
    {
      "cell_type": "markdown",
      "metadata": {
        "id": "PbqTUWCXf5AV"
      },
      "source": [
        "## Model Architecture"
      ]
    },
    {
      "cell_type": "code",
      "execution_count": 10,
      "metadata": {
        "id": "bGwgOXnZdhuL"
      },
      "outputs": [],
      "source": [
        "import tensorflow as tf\n",
        "from tensorflow.keras import layers\n",
        "\n",
        "# === Generator ===\n",
        "def build_generator():\n",
        "    model = tf.keras.Sequential([\n",
        "        layers.Input(shape=(SEQ_LENGTH, LATENT_DIM)),\n",
        "        layers.LSTM(128, return_sequences=True),\n",
        "        layers.LeakyReLU(0.2),\n",
        "        layers.LSTM(64, return_sequences=True),\n",
        "        layers.LeakyReLU(0.2),\n",
        "        layers.TimeDistributed(layers.Dense(FEATURE_DIM, activation='tanh'))\n",
        "    ])\n",
        "    return model\n",
        "\n",
        "# === Discriminator ===\n",
        "def build_discriminator():\n",
        "    model = tf.keras.Sequential([\n",
        "        layers.Input(shape=(SEQ_LENGTH, FEATURE_DIM)),\n",
        "        layers.LSTM(64, return_sequences=True),\n",
        "        layers.LeakyReLU(0.2),\n",
        "        layers.LSTM(32),\n",
        "        layers.LeakyReLU(0.2),\n",
        "        layers.Dense(1, activation='sigmoid')\n",
        "    ])\n",
        "    return model"
      ]
    },
    {
      "cell_type": "code",
      "execution_count": 11,
      "metadata": {
        "id": "pcwCNnlogPt0"
      },
      "outputs": [],
      "source": [
        "# loss function\n",
        "# Binary Crossentropy loss\n",
        "bce_loss = tf.keras.losses.BinaryCrossentropy()\n",
        "\n",
        "def generator_loss(fake_output):\n",
        "    return bce_loss(tf.ones_like(fake_output), fake_output)\n",
        "\n",
        "def discriminator_loss(real_output, fake_output):\n",
        "    real_loss = bce_loss(tf.ones_like(real_output), real_output)\n",
        "    fake_loss = bce_loss(tf.zeros_like(fake_output), fake_output)\n",
        "    return real_loss + fake_loss"
      ]
    },
    {
      "cell_type": "code",
      "execution_count": 12,
      "metadata": {
        "id": "wucaAw7Rf262"
      },
      "outputs": [],
      "source": [
        "# Optimizers\n",
        "gen_optimizer = tf.keras.optimizers.Adam(LEARNING_RATE)\n",
        "disc_optimizer = tf.keras.optimizers.Adam(LEARNING_RATE)"
      ]
    },
    {
      "cell_type": "code",
      "execution_count": 13,
      "metadata": {
        "id": "kwh8RpwXgTwv"
      },
      "outputs": [],
      "source": [
        "# Instantiate models\n",
        "generator = build_generator()\n",
        "discriminator = build_discriminator()"
      ]
    },
    {
      "cell_type": "code",
      "execution_count": 14,
      "metadata": {
        "id": "-ffPqPsvgXKe"
      },
      "outputs": [],
      "source": [
        "import time\n",
        "\n",
        "def train(dataset, epochs):\n",
        "    gen_losses = []\n",
        "    disc_losses = []\n",
        "\n",
        "    for epoch in range(epochs):\n",
        "        start_time = time.time()  # Start timing\n",
        "\n",
        "        g_loss_epoch = 0\n",
        "        d_loss_epoch = 0\n",
        "        batch_count = 0\n",
        "\n",
        "        for real_sequences in dataset:\n",
        "            batch_size = real_sequences.shape[0]\n",
        "            noise = tf.random.normal([batch_size, SEQ_LENGTH, LATENT_DIM])\n",
        "\n",
        "            with tf.GradientTape() as gen_tape, tf.GradientTape() as disc_tape:\n",
        "                fake_sequences = generator(noise, training=True)\n",
        "\n",
        "                real_output = discriminator(sequence_data, training=True)\n",
        "                fake_output = discriminator(fake_sequences, training=True)\n",
        "\n",
        "                gen_loss = generator_loss(fake_output)\n",
        "                disc_loss = discriminator_loss(real_output, fake_output)\n",
        "\n",
        "            gradients_of_generator = gen_tape.gradient(gen_loss, generator.trainable_variables)\n",
        "            gradients_of_discriminator = disc_tape.gradient(disc_loss, discriminator.trainable_variables)\n",
        "\n",
        "            gen_optimizer.apply_gradients(zip(gradients_of_generator, generator.trainable_variables))\n",
        "            disc_optimizer.apply_gradients(zip(gradients_of_discriminator, discriminator.trainable_variables))\n",
        "\n",
        "            g_loss_epoch += gen_loss.numpy()\n",
        "            d_loss_epoch += disc_loss.numpy()\n",
        "            batch_count += 1\n",
        "\n",
        "        avg_gen_loss = g_loss_epoch / batch_count\n",
        "        avg_disc_loss = d_loss_epoch / batch_count\n",
        "        gen_losses.append(avg_gen_loss)\n",
        "        disc_losses.append(avg_disc_loss)\n",
        "\n",
        "        duration = time.time() - start_time  # End timing\n",
        "\n",
        "        print(f\"Epoch {epoch+1}/{epochs} — Gen Loss: {avg_gen_loss:.4f} — Disc Loss: {avg_disc_loss:.4f} — Time: {duration:.2f} sec\")\n",
        "\n",
        "    return gen_losses, disc_losses\n"
      ]
    },
    {
      "cell_type": "code",
      "execution_count": 15,
      "metadata": {
        "colab": {
          "base_uri": "https://localhost:8080/"
        },
        "id": "tJigFq0ggc9E",
        "outputId": "1a9acbb6-b850-4a18-a15b-043f488e546f"
      },
      "outputs": [
        {
          "output_type": "stream",
          "name": "stdout",
          "text": [
            "Epoch 1/300 — Gen Loss: 0.6935 — Disc Loss: 1.3948 — Time: 10.27 sec\n",
            "Epoch 2/300 — Gen Loss: 0.6935 — Disc Loss: 1.3942 — Time: 8.12 sec\n",
            "Epoch 3/300 — Gen Loss: 0.6934 — Disc Loss: 1.3936 — Time: 10.22 sec\n",
            "Epoch 4/300 — Gen Loss: 0.6932 — Disc Loss: 1.3931 — Time: 10.22 sec\n",
            "Epoch 5/300 — Gen Loss: 0.6932 — Disc Loss: 1.3924 — Time: 8.26 sec\n",
            "Epoch 6/300 — Gen Loss: 0.6931 — Disc Loss: 1.3918 — Time: 10.22 sec\n",
            "Epoch 7/300 — Gen Loss: 0.6931 — Disc Loss: 1.3912 — Time: 6.68 sec\n",
            "Epoch 8/300 — Gen Loss: 0.6929 — Disc Loss: 1.3907 — Time: 8.50 sec\n",
            "Epoch 9/300 — Gen Loss: 0.6930 — Disc Loss: 1.3899 — Time: 6.75 sec\n",
            "Epoch 10/300 — Gen Loss: 0.6929 — Disc Loss: 1.3894 — Time: 8.61 sec\n",
            "Epoch 11/300 — Gen Loss: 0.6929 — Disc Loss: 1.3887 — Time: 6.67 sec\n",
            "Epoch 12/300 — Gen Loss: 0.6929 — Disc Loss: 1.3880 — Time: 8.35 sec\n",
            "Epoch 13/300 — Gen Loss: 0.6928 — Disc Loss: 1.3874 — Time: 6.70 sec\n",
            "Epoch 14/300 — Gen Loss: 0.6928 — Disc Loss: 1.3867 — Time: 8.40 sec\n",
            "Epoch 15/300 — Gen Loss: 0.6927 — Disc Loss: 1.3860 — Time: 6.60 sec\n",
            "Epoch 16/300 — Gen Loss: 0.6928 — Disc Loss: 1.3853 — Time: 10.22 sec\n",
            "Epoch 17/300 — Gen Loss: 0.6927 — Disc Loss: 1.3845 — Time: 7.55 sec\n",
            "Epoch 18/300 — Gen Loss: 0.6927 — Disc Loss: 1.3839 — Time: 7.52 sec\n",
            "Epoch 19/300 — Gen Loss: 0.6927 — Disc Loss: 1.3831 — Time: 10.22 sec\n",
            "Epoch 20/300 — Gen Loss: 0.6927 — Disc Loss: 1.3824 — Time: 6.73 sec\n",
            "Epoch 21/300 — Gen Loss: 0.6927 — Disc Loss: 1.3817 — Time: 8.46 sec\n",
            "Epoch 22/300 — Gen Loss: 0.6927 — Disc Loss: 1.3810 — Time: 10.22 sec\n",
            "Epoch 23/300 — Gen Loss: 0.6927 — Disc Loss: 1.3803 — Time: 7.16 sec\n",
            "Epoch 24/300 — Gen Loss: 0.6927 — Disc Loss: 1.3797 — Time: 8.03 sec\n",
            "Epoch 25/300 — Gen Loss: 0.6927 — Disc Loss: 1.3790 — Time: 7.10 sec\n",
            "Epoch 26/300 — Gen Loss: 0.6927 — Disc Loss: 1.3784 — Time: 8.47 sec\n",
            "Epoch 27/300 — Gen Loss: 0.6926 — Disc Loss: 1.3777 — Time: 6.77 sec\n",
            "Epoch 28/300 — Gen Loss: 0.6926 — Disc Loss: 1.3771 — Time: 8.92 sec\n",
            "Epoch 29/300 — Gen Loss: 0.6927 — Disc Loss: 1.3765 — Time: 7.28 sec\n",
            "Epoch 30/300 — Gen Loss: 0.6927 — Disc Loss: 1.3758 — Time: 8.90 sec\n",
            "Epoch 31/300 — Gen Loss: 0.6926 — Disc Loss: 1.3753 — Time: 10.23 sec\n",
            "Epoch 32/300 — Gen Loss: 0.6926 — Disc Loss: 1.3747 — Time: 7.42 sec\n",
            "Epoch 33/300 — Gen Loss: 0.6925 — Disc Loss: 1.3742 — Time: 10.22 sec\n",
            "Epoch 34/300 — Gen Loss: 0.6925 — Disc Loss: 1.3736 — Time: 6.66 sec\n",
            "Epoch 35/300 — Gen Loss: 0.6925 — Disc Loss: 1.3731 — Time: 8.37 sec\n",
            "Epoch 36/300 — Gen Loss: 0.6925 — Disc Loss: 1.3724 — Time: 6.95 sec\n",
            "Epoch 37/300 — Gen Loss: 0.6923 — Disc Loss: 1.3721 — Time: 8.43 sec\n",
            "Epoch 38/300 — Gen Loss: 0.6923 — Disc Loss: 1.3716 — Time: 10.23 sec\n",
            "Epoch 39/300 — Gen Loss: 0.6922 — Disc Loss: 1.3710 — Time: 6.72 sec\n",
            "Epoch 40/300 — Gen Loss: 0.6921 — Disc Loss: 1.3706 — Time: 8.42 sec\n",
            "Epoch 41/300 — Gen Loss: 0.6920 — Disc Loss: 1.3701 — Time: 6.68 sec\n",
            "Epoch 42/300 — Gen Loss: 0.6919 — Disc Loss: 1.3697 — Time: 8.43 sec\n",
            "Epoch 43/300 — Gen Loss: 0.6918 — Disc Loss: 1.3693 — Time: 10.22 sec\n",
            "Epoch 44/300 — Gen Loss: 0.6917 — Disc Loss: 1.3689 — Time: 8.05 sec\n",
            "Epoch 45/300 — Gen Loss: 0.6915 — Disc Loss: 1.3686 — Time: 10.22 sec\n",
            "Epoch 46/300 — Gen Loss: 0.6915 — Disc Loss: 1.3680 — Time: 6.65 sec\n",
            "Epoch 47/300 — Gen Loss: 0.6913 — Disc Loss: 1.3678 — Time: 8.58 sec\n",
            "Epoch 48/300 — Gen Loss: 0.6912 — Disc Loss: 1.3674 — Time: 6.91 sec\n",
            "Epoch 49/300 — Gen Loss: 0.6910 — Disc Loss: 1.3671 — Time: 10.22 sec\n",
            "Epoch 50/300 — Gen Loss: 0.6909 — Disc Loss: 1.3668 — Time: 10.22 sec\n",
            "Epoch 51/300 — Gen Loss: 0.6907 — Disc Loss: 1.3666 — Time: 6.83 sec\n",
            "Epoch 52/300 — Gen Loss: 0.6905 — Disc Loss: 1.3664 — Time: 8.45 sec\n",
            "Epoch 53/300 — Gen Loss: 0.6902 — Disc Loss: 1.3663 — Time: 6.64 sec\n",
            "Epoch 54/300 — Gen Loss: 0.6901 — Disc Loss: 1.3659 — Time: 8.53 sec\n",
            "Epoch 55/300 — Gen Loss: 0.6899 — Disc Loss: 1.3657 — Time: 6.74 sec\n",
            "Epoch 56/300 — Gen Loss: 0.6898 — Disc Loss: 1.3654 — Time: 8.43 sec\n",
            "Epoch 57/300 — Gen Loss: 0.6896 — Disc Loss: 1.3652 — Time: 6.72 sec\n",
            "Epoch 58/300 — Gen Loss: 0.6892 — Disc Loss: 1.3651 — Time: 8.43 sec\n",
            "Epoch 59/300 — Gen Loss: 0.6890 — Disc Loss: 1.3650 — Time: 6.60 sec\n",
            "Epoch 60/300 — Gen Loss: 0.6888 — Disc Loss: 1.3647 — Time: 8.26 sec\n",
            "Epoch 61/300 — Gen Loss: 0.6885 — Disc Loss: 1.3646 — Time: 6.59 sec\n",
            "Epoch 62/300 — Gen Loss: 0.6882 — Disc Loss: 1.3645 — Time: 8.81 sec\n",
            "Epoch 63/300 — Gen Loss: 0.6880 — Disc Loss: 1.3644 — Time: 10.22 sec\n",
            "Epoch 64/300 — Gen Loss: 0.6878 — Disc Loss: 1.3641 — Time: 10.22 sec\n",
            "Epoch 65/300 — Gen Loss: 0.6875 — Disc Loss: 1.3641 — Time: 8.02 sec\n",
            "Epoch 66/300 — Gen Loss: 0.6873 — Disc Loss: 1.3639 — Time: 7.48 sec\n",
            "Epoch 67/300 — Gen Loss: 0.6868 — Disc Loss: 1.3640 — Time: 7.92 sec\n",
            "Epoch 68/300 — Gen Loss: 0.6867 — Disc Loss: 1.3637 — Time: 10.23 sec\n",
            "Epoch 69/300 — Gen Loss: 0.6863 — Disc Loss: 1.3637 — Time: 6.83 sec\n",
            "Epoch 70/300 — Gen Loss: 0.6860 — Disc Loss: 1.3637 — Time: 10.61 sec\n",
            "Epoch 71/300 — Gen Loss: 0.6856 — Disc Loss: 1.3637 — Time: 6.66 sec\n",
            "Epoch 72/300 — Gen Loss: 0.6853 — Disc Loss: 1.3636 — Time: 8.41 sec\n",
            "Epoch 73/300 — Gen Loss: 0.6849 — Disc Loss: 1.3637 — Time: 6.60 sec\n",
            "Epoch 74/300 — Gen Loss: 0.6845 — Disc Loss: 1.3637 — Time: 8.30 sec\n",
            "Epoch 75/300 — Gen Loss: 0.6841 — Disc Loss: 1.3637 — Time: 6.54 sec\n",
            "Epoch 76/300 — Gen Loss: 0.6837 — Disc Loss: 1.3638 — Time: 8.38 sec\n",
            "Epoch 77/300 — Gen Loss: 0.6832 — Disc Loss: 1.3639 — Time: 6.70 sec\n",
            "Epoch 78/300 — Gen Loss: 0.6827 — Disc Loss: 1.3641 — Time: 8.47 sec\n",
            "Epoch 79/300 — Gen Loss: 0.6823 — Disc Loss: 1.3641 — Time: 7.29 sec\n",
            "Epoch 80/300 — Gen Loss: 0.6817 — Disc Loss: 1.3642 — Time: 8.80 sec\n",
            "Epoch 81/300 — Gen Loss: 0.6814 — Disc Loss: 1.3641 — Time: 10.22 sec\n",
            "Epoch 82/300 — Gen Loss: 0.6805 — Disc Loss: 1.3646 — Time: 6.68 sec\n",
            "Epoch 83/300 — Gen Loss: 0.6802 — Disc Loss: 1.3644 — Time: 8.50 sec\n",
            "Epoch 84/300 — Gen Loss: 0.6794 — Disc Loss: 1.3647 — Time: 6.81 sec\n",
            "Epoch 85/300 — Gen Loss: 0.6785 — Disc Loss: 1.3651 — Time: 8.42 sec\n",
            "Epoch 86/300 — Gen Loss: 0.6781 — Disc Loss: 1.3651 — Time: 6.67 sec\n",
            "Epoch 87/300 — Gen Loss: 0.6773 — Disc Loss: 1.3654 — Time: 8.45 sec\n",
            "Epoch 88/300 — Gen Loss: 0.6769 — Disc Loss: 1.3654 — Time: 6.78 sec\n",
            "Epoch 89/300 — Gen Loss: 0.6759 — Disc Loss: 1.3660 — Time: 8.45 sec\n",
            "Epoch 90/300 — Gen Loss: 0.6754 — Disc Loss: 1.3662 — Time: 6.58 sec\n",
            "Epoch 91/300 — Gen Loss: 0.6745 — Disc Loss: 1.3669 — Time: 8.38 sec\n",
            "Epoch 92/300 — Gen Loss: 0.6741 — Disc Loss: 1.3671 — Time: 6.70 sec\n",
            "Epoch 93/300 — Gen Loss: 0.6736 — Disc Loss: 1.3675 — Time: 8.39 sec\n",
            "Epoch 94/300 — Gen Loss: 0.6731 — Disc Loss: 1.3678 — Time: 6.63 sec\n",
            "Epoch 95/300 — Gen Loss: 0.6722 — Disc Loss: 1.3687 — Time: 8.45 sec\n",
            "Epoch 96/300 — Gen Loss: 0.6715 — Disc Loss: 1.3694 — Time: 10.23 sec\n",
            "Epoch 97/300 — Gen Loss: 0.6711 — Disc Loss: 1.3698 — Time: 6.68 sec\n",
            "Epoch 98/300 — Gen Loss: 0.6701 — Disc Loss: 1.3708 — Time: 8.32 sec\n",
            "Epoch 99/300 — Gen Loss: 0.6695 — Disc Loss: 1.3716 — Time: 6.73 sec\n",
            "Epoch 100/300 — Gen Loss: 0.6692 — Disc Loss: 1.3720 — Time: 8.53 sec\n",
            "Epoch 101/300 — Gen Loss: 0.6685 — Disc Loss: 1.3729 — Time: 10.22 sec\n",
            "Epoch 102/300 — Gen Loss: 0.6681 — Disc Loss: 1.3735 — Time: 7.45 sec\n",
            "Epoch 103/300 — Gen Loss: 0.6677 — Disc Loss: 1.3742 — Time: 10.22 sec\n",
            "Epoch 104/300 — Gen Loss: 0.6672 — Disc Loss: 1.3750 — Time: 6.66 sec\n",
            "Epoch 105/300 — Gen Loss: 0.6668 — Disc Loss: 1.3758 — Time: 8.56 sec\n",
            "Epoch 106/300 — Gen Loss: 0.6666 — Disc Loss: 1.3763 — Time: 6.69 sec\n",
            "Epoch 107/300 — Gen Loss: 0.6660 — Disc Loss: 1.3773 — Time: 8.56 sec\n",
            "Epoch 108/300 — Gen Loss: 0.6661 — Disc Loss: 1.3777 — Time: 6.66 sec\n",
            "Epoch 109/300 — Gen Loss: 0.6654 — Disc Loss: 1.3789 — Time: 8.50 sec\n",
            "Epoch 110/300 — Gen Loss: 0.6653 — Disc Loss: 1.3794 — Time: 6.74 sec\n",
            "Epoch 111/300 — Gen Loss: 0.6653 — Disc Loss: 1.3799 — Time: 10.51 sec\n",
            "Epoch 112/300 — Gen Loss: 0.6648 — Disc Loss: 1.3811 — Time: 10.22 sec\n",
            "Epoch 113/300 — Gen Loss: 0.6652 — Disc Loss: 1.3812 — Time: 10.22 sec\n",
            "Epoch 114/300 — Gen Loss: 0.6645 — Disc Loss: 1.3825 — Time: 8.13 sec\n",
            "Epoch 115/300 — Gen Loss: 0.6646 — Disc Loss: 1.3829 — Time: 10.22 sec\n",
            "Epoch 116/300 — Gen Loss: 0.6646 — Disc Loss: 1.3836 — Time: 6.77 sec\n",
            "Epoch 117/300 — Gen Loss: 0.6645 — Disc Loss: 1.3844 — Time: 10.22 sec\n",
            "Epoch 118/300 — Gen Loss: 0.6647 — Disc Loss: 1.3848 — Time: 6.74 sec\n",
            "Epoch 119/300 — Gen Loss: 0.6644 — Disc Loss: 1.3858 — Time: 11.01 sec\n",
            "Epoch 120/300 — Gen Loss: 0.6644 — Disc Loss: 1.3865 — Time: 10.22 sec\n",
            "Epoch 121/300 — Gen Loss: 0.6646 — Disc Loss: 1.3871 — Time: 6.81 sec\n",
            "Epoch 122/300 — Gen Loss: 0.6652 — Disc Loss: 1.3872 — Time: 8.56 sec\n",
            "Epoch 123/300 — Gen Loss: 0.6653 — Disc Loss: 1.3879 — Time: 6.88 sec\n",
            "Epoch 124/300 — Gen Loss: 0.6656 — Disc Loss: 1.3885 — Time: 8.60 sec\n",
            "Epoch 125/300 — Gen Loss: 0.6660 — Disc Loss: 1.3889 — Time: 6.80 sec\n",
            "Epoch 126/300 — Gen Loss: 0.6666 — Disc Loss: 1.3892 — Time: 10.22 sec\n",
            "Epoch 127/300 — Gen Loss: 0.6673 — Disc Loss: 1.3894 — Time: 10.22 sec\n",
            "Epoch 128/300 — Gen Loss: 0.6676 — Disc Loss: 1.3901 — Time: 10.23 sec\n",
            "Epoch 129/300 — Gen Loss: 0.6679 — Disc Loss: 1.3908 — Time: 7.85 sec\n",
            "Epoch 130/300 — Gen Loss: 0.6690 — Disc Loss: 1.3907 — Time: 10.22 sec\n",
            "Epoch 131/300 — Gen Loss: 0.6701 — Disc Loss: 1.3905 — Time: 6.69 sec\n",
            "Epoch 132/300 — Gen Loss: 0.6707 — Disc Loss: 1.3909 — Time: 8.39 sec\n",
            "Epoch 133/300 — Gen Loss: 0.6719 — Disc Loss: 1.3908 — Time: 6.62 sec\n",
            "Epoch 134/300 — Gen Loss: 0.6728 — Disc Loss: 1.3909 — Time: 8.41 sec\n",
            "Epoch 135/300 — Gen Loss: 0.6738 — Disc Loss: 1.3910 — Time: 6.72 sec\n",
            "Epoch 136/300 — Gen Loss: 0.6751 — Disc Loss: 1.3908 — Time: 8.47 sec\n",
            "Epoch 137/300 — Gen Loss: 0.6758 — Disc Loss: 1.3912 — Time: 6.71 sec\n",
            "Epoch 138/300 — Gen Loss: 0.6771 — Disc Loss: 1.3909 — Time: 10.23 sec\n",
            "Epoch 139/300 — Gen Loss: 0.6787 — Disc Loss: 1.3905 — Time: 7.63 sec\n",
            "Epoch 140/300 — Gen Loss: 0.6795 — Disc Loss: 1.3907 — Time: 7.56 sec\n",
            "Epoch 141/300 — Gen Loss: 0.6810 — Disc Loss: 1.3904 — Time: 10.22 sec\n",
            "Epoch 142/300 — Gen Loss: 0.6822 — Disc Loss: 1.3902 — Time: 6.77 sec\n",
            "Epoch 143/300 — Gen Loss: 0.6836 — Disc Loss: 1.3900 — Time: 8.62 sec\n",
            "Epoch 144/300 — Gen Loss: 0.6848 — Disc Loss: 1.3899 — Time: 6.75 sec\n",
            "Epoch 145/300 — Gen Loss: 0.6864 — Disc Loss: 1.3894 — Time: 8.63 sec\n",
            "Epoch 146/300 — Gen Loss: 0.6876 — Disc Loss: 1.3893 — Time: 7.15 sec\n",
            "Epoch 147/300 — Gen Loss: 0.6893 — Disc Loss: 1.3887 — Time: 8.55 sec\n",
            "Epoch 148/300 — Gen Loss: 0.6903 — Disc Loss: 1.3888 — Time: 10.23 sec\n",
            "Epoch 149/300 — Gen Loss: 0.6922 — Disc Loss: 1.3881 — Time: 8.00 sec\n",
            "Epoch 150/300 — Gen Loss: 0.6936 — Disc Loss: 1.3878 — Time: 10.23 sec\n",
            "Epoch 151/300 — Gen Loss: 0.6951 — Disc Loss: 1.3874 — Time: 7.36 sec\n",
            "Epoch 152/300 — Gen Loss: 0.6967 — Disc Loss: 1.3869 — Time: 8.42 sec\n",
            "Epoch 153/300 — Gen Loss: 0.6983 — Disc Loss: 1.3865 — Time: 7.99 sec\n",
            "Epoch 154/300 — Gen Loss: 0.6997 — Disc Loss: 1.3861 — Time: 7.54 sec\n",
            "Epoch 155/300 — Gen Loss: 0.7013 — Disc Loss: 1.3857 — Time: 10.22 sec\n",
            "Epoch 156/300 — Gen Loss: 0.7028 — Disc Loss: 1.3853 — Time: 6.90 sec\n",
            "Epoch 157/300 — Gen Loss: 0.7043 — Disc Loss: 1.3850 — Time: 8.55 sec\n",
            "Epoch 158/300 — Gen Loss: 0.7061 — Disc Loss: 1.3843 — Time: 6.80 sec\n",
            "Epoch 159/300 — Gen Loss: 0.7075 — Disc Loss: 1.3840 — Time: 8.60 sec\n",
            "Epoch 160/300 — Gen Loss: 0.7090 — Disc Loss: 1.3836 — Time: 6.81 sec\n",
            "Epoch 161/300 — Gen Loss: 0.7106 — Disc Loss: 1.3831 — Time: 8.49 sec\n",
            "Epoch 162/300 — Gen Loss: 0.7119 — Disc Loss: 1.3828 — Time: 6.69 sec\n",
            "Epoch 163/300 — Gen Loss: 0.7136 — Disc Loss: 1.3823 — Time: 8.44 sec\n",
            "Epoch 164/300 — Gen Loss: 0.7153 — Disc Loss: 1.3817 — Time: 7.01 sec\n",
            "Epoch 165/300 — Gen Loss: 0.7166 — Disc Loss: 1.3813 — Time: 8.52 sec\n",
            "Epoch 166/300 — Gen Loss: 0.7181 — Disc Loss: 1.3808 — Time: 10.22 sec\n",
            "Epoch 167/300 — Gen Loss: 0.7195 — Disc Loss: 1.3804 — Time: 7.07 sec\n",
            "Epoch 168/300 — Gen Loss: 0.7209 — Disc Loss: 1.3800 — Time: 8.65 sec\n",
            "Epoch 169/300 — Gen Loss: 0.7223 — Disc Loss: 1.3795 — Time: 6.77 sec\n",
            "Epoch 170/300 — Gen Loss: 0.7239 — Disc Loss: 1.3789 — Time: 8.42 sec\n",
            "Epoch 171/300 — Gen Loss: 0.7256 — Disc Loss: 1.3782 — Time: 6.81 sec\n",
            "Epoch 172/300 — Gen Loss: 0.7274 — Disc Loss: 1.3774 — Time: 8.54 sec\n",
            "Epoch 173/300 — Gen Loss: 0.7291 — Disc Loss: 1.3765 — Time: 6.78 sec\n",
            "Epoch 174/300 — Gen Loss: 0.7309 — Disc Loss: 1.3757 — Time: 8.40 sec\n",
            "Epoch 175/300 — Gen Loss: 0.7325 — Disc Loss: 1.3751 — Time: 10.22 sec\n",
            "Epoch 176/300 — Gen Loss: 0.7340 — Disc Loss: 1.3745 — Time: 6.76 sec\n",
            "Epoch 177/300 — Gen Loss: 0.7353 — Disc Loss: 1.3740 — Time: 8.44 sec\n",
            "Epoch 178/300 — Gen Loss: 0.7366 — Disc Loss: 1.3735 — Time: 6.61 sec\n",
            "Epoch 179/300 — Gen Loss: 0.7378 — Disc Loss: 1.3731 — Time: 8.56 sec\n",
            "Epoch 180/300 — Gen Loss: 0.7390 — Disc Loss: 1.3727 — Time: 7.45 sec\n",
            "Epoch 181/300 — Gen Loss: 0.7402 — Disc Loss: 1.3721 — Time: 8.48 sec\n",
            "Epoch 182/300 — Gen Loss: 0.7413 — Disc Loss: 1.3717 — Time: 6.98 sec\n",
            "Epoch 183/300 — Gen Loss: 0.7424 — Disc Loss: 1.3713 — Time: 8.57 sec\n",
            "Epoch 184/300 — Gen Loss: 0.7433 — Disc Loss: 1.3710 — Time: 10.22 sec\n",
            "Epoch 185/300 — Gen Loss: 0.7444 — Disc Loss: 1.3704 — Time: 6.59 sec\n",
            "Epoch 186/300 — Gen Loss: 0.7451 — Disc Loss: 1.3702 — Time: 8.42 sec\n",
            "Epoch 187/300 — Gen Loss: 0.7462 — Disc Loss: 1.3695 — Time: 6.72 sec\n",
            "Epoch 188/300 — Gen Loss: 0.7469 — Disc Loss: 1.3692 — Time: 8.43 sec\n",
            "Epoch 189/300 — Gen Loss: 0.7476 — Disc Loss: 1.3688 — Time: 10.22 sec\n",
            "Epoch 190/300 — Gen Loss: 0.7483 — Disc Loss: 1.3683 — Time: 7.48 sec\n",
            "Epoch 191/300 — Gen Loss: 0.7488 — Disc Loss: 1.3679 — Time: 10.22 sec\n",
            "Epoch 192/300 — Gen Loss: 0.7492 — Disc Loss: 1.3676 — Time: 6.69 sec\n",
            "Epoch 193/300 — Gen Loss: 0.7496 — Disc Loss: 1.3673 — Time: 8.42 sec\n",
            "Epoch 194/300 — Gen Loss: 0.7500 — Disc Loss: 1.3668 — Time: 10.22 sec\n",
            "Epoch 195/300 — Gen Loss: 0.7501 — Disc Loss: 1.3665 — Time: 7.21 sec\n",
            "Epoch 196/300 — Gen Loss: 0.7502 — Disc Loss: 1.3662 — Time: 8.15 sec\n",
            "Epoch 197/300 — Gen Loss: 0.7500 — Disc Loss: 1.3661 — Time: 6.89 sec\n",
            "Epoch 198/300 — Gen Loss: 0.7501 — Disc Loss: 1.3656 — Time: 10.22 sec\n",
            "Epoch 199/300 — Gen Loss: 0.7499 — Disc Loss: 1.3652 — Time: 6.71 sec\n",
            "Epoch 200/300 — Gen Loss: 0.7498 — Disc Loss: 1.3648 — Time: 8.32 sec\n",
            "Epoch 201/300 — Gen Loss: 0.7498 — Disc Loss: 1.3643 — Time: 6.72 sec\n",
            "Epoch 202/300 — Gen Loss: 0.7495 — Disc Loss: 1.3640 — Time: 8.50 sec\n",
            "Epoch 203/300 — Gen Loss: 0.7491 — Disc Loss: 1.3637 — Time: 6.62 sec\n",
            "Epoch 204/300 — Gen Loss: 0.7490 — Disc Loss: 1.3631 — Time: 8.36 sec\n",
            "Epoch 205/300 — Gen Loss: 0.7487 — Disc Loss: 1.3626 — Time: 6.65 sec\n",
            "Epoch 206/300 — Gen Loss: 0.7486 — Disc Loss: 1.3619 — Time: 8.47 sec\n",
            "Epoch 207/300 — Gen Loss: 0.7485 — Disc Loss: 1.3614 — Time: 6.69 sec\n",
            "Epoch 208/300 — Gen Loss: 0.7482 — Disc Loss: 1.3608 — Time: 8.29 sec\n",
            "Epoch 209/300 — Gen Loss: 0.7478 — Disc Loss: 1.3604 — Time: 10.22 sec\n",
            "Epoch 210/300 — Gen Loss: 0.7476 — Disc Loss: 1.3596 — Time: 6.70 sec\n",
            "Epoch 211/300 — Gen Loss: 0.7472 — Disc Loss: 1.3590 — Time: 8.44 sec\n",
            "Epoch 212/300 — Gen Loss: 0.7469 — Disc Loss: 1.3583 — Time: 6.95 sec\n",
            "Epoch 213/300 — Gen Loss: 0.7465 — Disc Loss: 1.3577 — Time: 8.43 sec\n",
            "Epoch 214/300 — Gen Loss: 0.7464 — Disc Loss: 1.3568 — Time: 6.73 sec\n",
            "Epoch 215/300 — Gen Loss: 0.7459 — Disc Loss: 1.3563 — Time: 8.34 sec\n",
            "Epoch 216/300 — Gen Loss: 0.7456 — Disc Loss: 1.3556 — Time: 6.72 sec\n",
            "Epoch 217/300 — Gen Loss: 0.7453 — Disc Loss: 1.3547 — Time: 8.56 sec\n",
            "Epoch 218/300 — Gen Loss: 0.7452 — Disc Loss: 1.3539 — Time: 6.74 sec\n",
            "Epoch 219/300 — Gen Loss: 0.7451 — Disc Loss: 1.3531 — Time: 8.44 sec\n",
            "Epoch 220/300 — Gen Loss: 0.7449 — Disc Loss: 1.3524 — Time: 6.81 sec\n",
            "Epoch 221/300 — Gen Loss: 0.7446 — Disc Loss: 1.3518 — Time: 8.35 sec\n",
            "Epoch 222/300 — Gen Loss: 0.7443 — Disc Loss: 1.3512 — Time: 10.22 sec\n",
            "Epoch 223/300 — Gen Loss: 0.7442 — Disc Loss: 1.3505 — Time: 10.23 sec\n",
            "Epoch 224/300 — Gen Loss: 0.7440 — Disc Loss: 1.3499 — Time: 8.03 sec\n",
            "Epoch 225/300 — Gen Loss: 0.7437 — Disc Loss: 1.3494 — Time: 10.22 sec\n",
            "Epoch 226/300 — Gen Loss: 0.7435 — Disc Loss: 1.3489 — Time: 6.87 sec\n",
            "Epoch 227/300 — Gen Loss: 0.7431 — Disc Loss: 1.3485 — Time: 8.54 sec\n",
            "Epoch 228/300 — Gen Loss: 0.7429 — Disc Loss: 1.3480 — Time: 6.74 sec\n",
            "Epoch 229/300 — Gen Loss: 0.7425 — Disc Loss: 1.3478 — Time: 8.67 sec\n",
            "Epoch 230/300 — Gen Loss: 0.7423 — Disc Loss: 1.3475 — Time: 10.22 sec\n",
            "Epoch 231/300 — Gen Loss: 0.7422 — Disc Loss: 1.3471 — Time: 7.18 sec\n",
            "Epoch 232/300 — Gen Loss: 0.7416 — Disc Loss: 1.3473 — Time: 8.38 sec\n",
            "Epoch 233/300 — Gen Loss: 0.7415 — Disc Loss: 1.3470 — Time: 6.71 sec\n",
            "Epoch 234/300 — Gen Loss: 0.7408 — Disc Loss: 1.3472 — Time: 8.53 sec\n",
            "Epoch 235/300 — Gen Loss: 0.7406 — Disc Loss: 1.3473 — Time: 6.65 sec\n",
            "Epoch 236/300 — Gen Loss: 0.7405 — Disc Loss: 1.3473 — Time: 8.31 sec\n",
            "Epoch 237/300 — Gen Loss: 0.7402 — Disc Loss: 1.3474 — Time: 6.55 sec\n",
            "Epoch 238/300 — Gen Loss: 0.7401 — Disc Loss: 1.3475 — Time: 8.34 sec\n",
            "Epoch 239/300 — Gen Loss: 0.7396 — Disc Loss: 1.3479 — Time: 10.22 sec\n",
            "Epoch 240/300 — Gen Loss: 0.7393 — Disc Loss: 1.3482 — Time: 7.80 sec\n",
            "Epoch 241/300 — Gen Loss: 0.7391 — Disc Loss: 1.3485 — Time: 10.22 sec\n",
            "Epoch 242/300 — Gen Loss: 0.7388 — Disc Loss: 1.3488 — Time: 7.14 sec\n",
            "Epoch 243/300 — Gen Loss: 0.7385 — Disc Loss: 1.3493 — Time: 8.49 sec\n",
            "Epoch 244/300 — Gen Loss: 0.7385 — Disc Loss: 1.3495 — Time: 6.73 sec\n",
            "Epoch 245/300 — Gen Loss: 0.7378 — Disc Loss: 1.3504 — Time: 10.22 sec\n",
            "Epoch 246/300 — Gen Loss: 0.7381 — Disc Loss: 1.3505 — Time: 10.22 sec\n",
            "Epoch 247/300 — Gen Loss: 0.7381 — Disc Loss: 1.3509 — Time: 6.99 sec\n",
            "Epoch 248/300 — Gen Loss: 0.7379 — Disc Loss: 1.3514 — Time: 8.46 sec\n",
            "Epoch 249/300 — Gen Loss: 0.7379 — Disc Loss: 1.3519 — Time: 10.22 sec\n",
            "Epoch 250/300 — Gen Loss: 0.7381 — Disc Loss: 1.3522 — Time: 7.44 sec\n",
            "Epoch 251/300 — Gen Loss: 0.7376 — Disc Loss: 1.3530 — Time: 10.22 sec\n",
            "Epoch 252/300 — Gen Loss: 0.7377 — Disc Loss: 1.3533 — Time: 6.64 sec\n",
            "Epoch 253/300 — Gen Loss: 0.7381 — Disc Loss: 1.3535 — Time: 8.41 sec\n",
            "Epoch 254/300 — Gen Loss: 0.7379 — Disc Loss: 1.3542 — Time: 6.72 sec\n",
            "Epoch 255/300 — Gen Loss: 0.7380 — Disc Loss: 1.3546 — Time: 8.40 sec\n",
            "Epoch 256/300 — Gen Loss: 0.7377 — Disc Loss: 1.3552 — Time: 10.22 sec\n",
            "Epoch 257/300 — Gen Loss: 0.7384 — Disc Loss: 1.3550 — Time: 7.03 sec\n",
            "Epoch 258/300 — Gen Loss: 0.7378 — Disc Loss: 1.3559 — Time: 8.53 sec\n",
            "Epoch 259/300 — Gen Loss: 0.7381 — Disc Loss: 1.3561 — Time: 6.85 sec\n",
            "Epoch 260/300 — Gen Loss: 0.7383 — Disc Loss: 1.3563 — Time: 8.71 sec\n",
            "Epoch 261/300 — Gen Loss: 0.7382 — Disc Loss: 1.3567 — Time: 6.90 sec\n",
            "Epoch 262/300 — Gen Loss: 0.7388 — Disc Loss: 1.3564 — Time: 8.71 sec\n",
            "Epoch 263/300 — Gen Loss: 0.7389 — Disc Loss: 1.3566 — Time: 6.91 sec\n",
            "Epoch 264/300 — Gen Loss: 0.7390 — Disc Loss: 1.3566 — Time: 8.56 sec\n",
            "Epoch 265/300 — Gen Loss: 0.7391 — Disc Loss: 1.3567 — Time: 6.75 sec\n",
            "Epoch 266/300 — Gen Loss: 0.7392 — Disc Loss: 1.3569 — Time: 8.51 sec\n",
            "Epoch 267/300 — Gen Loss: 0.7395 — Disc Loss: 1.3568 — Time: 6.73 sec\n",
            "Epoch 268/300 — Gen Loss: 0.7405 — Disc Loss: 1.3560 — Time: 8.49 sec\n",
            "Epoch 269/300 — Gen Loss: 0.7406 — Disc Loss: 1.3560 — Time: 10.22 sec\n",
            "Epoch 270/300 — Gen Loss: 0.7407 — Disc Loss: 1.3559 — Time: 7.76 sec\n",
            "Epoch 271/300 — Gen Loss: 0.7414 — Disc Loss: 1.3553 — Time: 8.59 sec\n",
            "Epoch 272/300 — Gen Loss: 0.7418 — Disc Loss: 1.3550 — Time: 6.79 sec\n",
            "Epoch 273/300 — Gen Loss: 0.7422 — Disc Loss: 1.3545 — Time: 8.56 sec\n",
            "Epoch 274/300 — Gen Loss: 0.7424 — Disc Loss: 1.3543 — Time: 6.70 sec\n",
            "Epoch 275/300 — Gen Loss: 0.7433 — Disc Loss: 1.3534 — Time: 8.44 sec\n",
            "Epoch 276/300 — Gen Loss: 0.7435 — Disc Loss: 1.3529 — Time: 6.77 sec\n",
            "Epoch 277/300 — Gen Loss: 0.7435 — Disc Loss: 1.3526 — Time: 8.54 sec\n",
            "Epoch 278/300 — Gen Loss: 0.7442 — Disc Loss: 1.3518 — Time: 7.07 sec\n",
            "Epoch 279/300 — Gen Loss: 0.7448 — Disc Loss: 1.3510 — Time: 8.45 sec\n",
            "Epoch 280/300 — Gen Loss: 0.7456 — Disc Loss: 1.3499 — Time: 10.22 sec\n",
            "Epoch 281/300 — Gen Loss: 0.7458 — Disc Loss: 1.3491 — Time: 6.72 sec\n",
            "Epoch 282/300 — Gen Loss: 0.7467 — Disc Loss: 1.3478 — Time: 8.37 sec\n",
            "Epoch 283/300 — Gen Loss: 0.7468 — Disc Loss: 1.3472 — Time: 6.71 sec\n",
            "Epoch 284/300 — Gen Loss: 0.7475 — Disc Loss: 1.3459 — Time: 8.66 sec\n",
            "Epoch 285/300 — Gen Loss: 0.7480 — Disc Loss: 1.3448 — Time: 6.90 sec\n",
            "Epoch 286/300 — Gen Loss: 0.7486 — Disc Loss: 1.3435 — Time: 8.64 sec\n",
            "Epoch 287/300 — Gen Loss: 0.7493 — Disc Loss: 1.3421 — Time: 6.75 sec\n",
            "Epoch 288/300 — Gen Loss: 0.7499 — Disc Loss: 1.3408 — Time: 8.56 sec\n",
            "Epoch 289/300 — Gen Loss: 0.7506 — Disc Loss: 1.3394 — Time: 6.73 sec\n",
            "Epoch 290/300 — Gen Loss: 0.7513 — Disc Loss: 1.3379 — Time: 8.58 sec\n",
            "Epoch 291/300 — Gen Loss: 0.7519 — Disc Loss: 1.3365 — Time: 10.22 sec\n",
            "Epoch 292/300 — Gen Loss: 0.7528 — Disc Loss: 1.3347 — Time: 6.97 sec\n",
            "Epoch 293/300 — Gen Loss: 0.7537 — Disc Loss: 1.3329 — Time: 8.97 sec\n",
            "Epoch 294/300 — Gen Loss: 0.7539 — Disc Loss: 1.3315 — Time: 6.76 sec\n",
            "Epoch 295/300 — Gen Loss: 0.7549 — Disc Loss: 1.3294 — Time: 8.55 sec\n",
            "Epoch 296/300 — Gen Loss: 0.7552 — Disc Loss: 1.3280 — Time: 6.71 sec\n",
            "Epoch 297/300 — Gen Loss: 0.7561 — Disc Loss: 1.3261 — Time: 8.38 sec\n",
            "Epoch 298/300 — Gen Loss: 0.7571 — Disc Loss: 1.3241 — Time: 6.78 sec\n",
            "Epoch 299/300 — Gen Loss: 0.7572 — Disc Loss: 1.3229 — Time: 8.50 sec\n",
            "Epoch 300/300 — Gen Loss: 0.7584 — Disc Loss: 1.3207 — Time: 6.52 sec\n"
          ]
        }
      ],
      "source": [
        "# Train\n",
        "gen_losses, disc_losses = train(dataset, EPOCHS)"
      ]
    },
    {
      "cell_type": "code",
      "execution_count": 16,
      "metadata": {
        "id": "pwf56lVsggcP"
      },
      "outputs": [],
      "source": [
        "import matplotlib.pyplot as plt\n",
        "\n",
        "def plot_losses(gen_losses, disc_losses):\n",
        "    plt.figure(figsize=(10, 5))\n",
        "    plt.plot(gen_losses, label=\"Generator Loss\")\n",
        "    plt.plot(disc_losses, label=\"Discriminator Loss\")\n",
        "    plt.xlabel(\"Epoch\")\n",
        "    plt.ylabel(\"Loss\")\n",
        "    plt.title(\"GAN Training Losses\")\n",
        "    plt.legend()\n",
        "    plt.grid(True)\n",
        "    plt.show()"
      ]
    },
    {
      "cell_type": "code",
      "execution_count": 17,
      "metadata": {
        "id": "4AcGgDghjNoS",
        "colab": {
          "base_uri": "https://localhost:8080/",
          "height": 487
        },
        "outputId": "dd2292c5-ea56-44c9-e633-b5ae4c6bb7b8"
      },
      "outputs": [
        {
          "output_type": "display_data",
          "data": {
            "text/plain": [
              "<Figure size 1000x500 with 1 Axes>"
            ],
            "image/png": "[encoded data removed]"
          },
          "metadata": {}
        }
      ],
      "source": [
        "plot_losses(gen_losses, disc_losses)"
      ]
    },
    {
      "cell_type": "code",
      "execution_count": 18,
      "metadata": {
        "id": "3Wk_j8Hh35ZD"
      },
      "outputs": [],
      "source": [
        "def generate_synthetic_data(generator, num_samples, seq_length, latent_dim, feature_dim):\n",
        "    \"\"\"\n",
        "    Generate synthetic time-series data using the trained generator model.\n",
        "\n",
        "    Args:\n",
        "        generator (tf.keras.Model): Trained generator model.\n",
        "        num_samples (int): Number of synthetic sequences to generate.\n",
        "        seq_length (int): Length of each time-series sequence.\n",
        "        latent_dim (int): Dimensionality of the noise vector.\n",
        "        feature_dim (int): Number of features per time step.\n",
        "\n",
        "    Returns:\n",
        "        np.ndarray: Generated synthetic data of shape (num_samples, seq_length, feature_dim).\n",
        "    \"\"\"\n",
        "    # Sample random noise vectors\n",
        "    noise = tf.random.normal([num_samples, seq_length, latent_dim])\n",
        "\n",
        "    # Generate synthetic sequences\n",
        "    synthetic_data = generator(noise, training=False)\n",
        "\n",
        "    # Convert to numpy\n",
        "    return synthetic_data.numpy()\n"
      ]
    },
    {
      "cell_type": "code",
      "execution_count": 19,
      "metadata": {
        "id": "sqfph8HD363k",
        "colab": {
          "base_uri": "https://localhost:8080/"
        },
        "outputId": "f4a0d33e-a3d8-4993-9359-63e2ded2fff1"
      },
      "outputs": [
        {
          "output_type": "stream",
          "name": "stdout",
          "text": [
            "(10000, 7, 3)\n"
          ]
        }
      ],
      "source": [
        "SYNTHETIC_SAMPLES = 10000\n",
        "synthetic = generate_synthetic_data(generator, SYNTHETIC_SAMPLES, SEQ_LENGTH, LATENT_DIM, FEATURE_DIM)\n",
        "\n",
        "print(synthetic.shape)"
      ]
    },
    {
      "cell_type": "code",
      "execution_count": 87,
      "metadata": {
        "id": "7F7zhpUeaTAO",
        "colab": {
          "base_uri": "https://localhost:8080/"
        },
        "outputId": "537a82be-032e-4bbf-a5d6-ef9e5105a118"
      },
      "outputs": [
        {
          "output_type": "execute_result",
          "data": {
            "text/plain": [
              "array([[[ 0.55209327,  0.52151126,  0.47641006],\n",
              "        [ 0.6485231 ,  0.61797047,  0.5933934 ],\n",
              "        [ 0.55270547,  0.60163087,  0.4867874 ],\n",
              "        ...,\n",
              "        [ 0.62773496,  0.5439885 ,  0.514355  ],\n",
              "        [ 0.64318246,  0.5130059 ,  0.5095682 ],\n",
              "        [ 0.71024567,  0.56792814,  0.5854463 ]],\n",
              "\n",
              "       [[ 0.24638863,  0.22884648,  0.18521635],\n",
              "        [ 0.23142564,  0.21216993,  0.16343288],\n",
              "        [ 0.16886817,  0.1366589 ,  0.09374377],\n",
              "        ...,\n",
              "        [ 0.26614174,  0.14524749,  0.22986445],\n",
              "        [ 0.38250312,  0.25933525,  0.34052238],\n",
              "        [ 0.5776378 ,  0.45405632,  0.500776  ]],\n",
              "\n",
              "       [[ 0.19881223,  0.16145237,  0.17854531],\n",
              "        [-0.07211675,  0.07251588,  0.06839403],\n",
              "        [-0.03836138,  0.11677714,  0.0643362 ],\n",
              "        ...,\n",
              "        [ 0.266523  ,  0.2593215 ,  0.3620322 ],\n",
              "        [ 0.30150062,  0.21950376,  0.40273416],\n",
              "        [ 0.3491741 ,  0.20566891,  0.40592182]],\n",
              "\n",
              "       ...,\n",
              "\n",
              "       [[ 0.5236225 ,  0.49816605,  0.47425416],\n",
              "        [ 0.2967973 ,  0.3286409 ,  0.2467473 ],\n",
              "        [ 0.02899365,  0.16888046, -0.03782495],\n",
              "        ...,\n",
              "        [ 0.20436132,  0.16950002,  0.1793933 ],\n",
              "        [ 0.2455929 ,  0.13191803,  0.25296527],\n",
              "        [ 0.32332346,  0.13823995,  0.30129918]],\n",
              "\n",
              "       [[ 0.8248839 ,  0.8152646 ,  0.79204446],\n",
              "        [ 0.8941987 ,  0.9069997 ,  0.90094566],\n",
              "        [ 0.7028417 ,  0.7364967 ,  0.7161396 ],\n",
              "        ...,\n",
              "        [ 0.65913296,  0.5347549 ,  0.5755654 ],\n",
              "        [ 0.69171673,  0.52867955,  0.59307057],\n",
              "        [ 0.7055575 ,  0.5625681 ,  0.61924744]],\n",
              "\n",
              "       [[ 0.12087847,  0.10503114,  0.13992676],\n",
              "        [ 0.31482044,  0.25903493,  0.3518813 ],\n",
              "        [ 0.1272281 ,  0.15021475,  0.14721008],\n",
              "        ...,\n",
              "        [ 0.19212112,  0.13413075,  0.2159415 ],\n",
              "        [ 0.35559618,  0.2424678 ,  0.33099017],\n",
              "        [ 0.5522014 ,  0.42902097,  0.45460254]]], dtype=float32)"
            ]
          },
          "metadata": {},
          "execution_count": 87
        }
      ],
      "source": [
        "synthetic"
      ]
    },
    {
      "cell_type": "code",
      "execution_count": 88,
      "metadata": {
        "id": "CPAqeybP4OVa"
      },
      "outputs": [],
      "source": [
        "import pandas as pd\n",
        "\n",
        "# flatten sequence into tabular form if needed\n",
        "generated_data_flat = synthetic.reshape(-1, len(features))\n",
        "df_fake = pd.DataFrame(generated_data_flat, columns=features)\n",
        "# Save to CSV\n",
        "df_fake.to_csv('generated_data_flat.csv', index=False)"
      ]
    },
    {
      "cell_type": "code",
      "execution_count": 89,
      "metadata": {
        "id": "oaUE7cpu4V4d",
        "colab": {
          "base_uri": "https://localhost:8080/",
          "height": 206
        },
        "outputId": "ec25592c-97aa-4add-eda1-cae24b4e97b6"
      },
      "outputs": [
        {
          "output_type": "execute_result",
          "data": {
            "text/plain": [
              "      Value  Value_HeatPump  Value_OtherAppliances\n",
              "0  0.552093        0.521511               0.476410\n",
              "1  0.648523        0.617970               0.593393\n",
              "2  0.552705        0.601631               0.486787\n",
              "3  0.532334        0.542644               0.484597\n",
              "4  0.627735        0.543989               0.514355"
            ],
            "text/html": [
              "\n",
              "  <div id=\"df-a5ce951a-6b06-40e5-bb0c-a1da65fd54a2\" class=\"colab-df-container\">\n",
              "    <div>\n",
              "<style scoped>\n",
              "    .dataframe tbody tr th:only-of-type {\n",
              "        vertical-align: middle;\n",
              "    }\n",
              "\n",
              "    .dataframe tbody tr th {\n",
              "        vertical-align: top;\n",
              "    }\n",
              "\n",
              "    .dataframe thead th {\n",
              "        text-align: right;\n",
              "    }\n",
              "</style>\n",
              "<table border=\"1\" class=\"dataframe\">\n",
              "  <thead>\n",
              "    <tr style=\"text-align: right;\">\n",
              "      <th></th>\n",
              "      <th>Value</th>\n",
              "      <th>Value_HeatPump</th>\n",
              "      <th>Value_OtherAppliances</th>\n",
              "    </tr>\n",
              "  </thead>\n",
              "  <tbody>\n",
              "    <tr>\n",
              "      <th>0</th>\n",
              "      <td>0.552093</td>\n",
              "      <td>0.521511</td>\n",
              "      <td>0.476410</td>\n",
              "    </tr>\n",
              "    <tr>\n",
              "      <th>1</th>\n",
              "      <td>0.648523</td>\n",
              "      <td>0.617970</td>\n",
              "      <td>0.593393</td>\n",
              "    </tr>\n",
              "    <tr>\n",
              "      <th>2</th>\n",
              "      <td>0.552705</td>\n",
              "      <td>0.601631</td>\n",
              "      <td>0.486787</td>\n",
              "    </tr>\n",
              "    <tr>\n",
              "      <th>3</th>\n",
              "      <td>0.532334</td>\n",
              "      <td>0.542644</td>\n",
              "      <td>0.484597</td>\n",
              "    </tr>\n",
              "    <tr>\n",
              "      <th>4</th>\n",
              "      <td>0.627735</td>\n",
              "      <td>0.543989</td>\n",
              "      <td>0.514355</td>\n",
              "    </tr>\n",
              "  </tbody>\n",
              "</table>\n",
              "</div>\n",
              "    <div class=\"colab-df-buttons\">\n",
              "\n",
              "  <div class=\"colab-df-container\">\n",
              "    <button class=\"colab-df-convert\" onclick=\"convertToInteractive('df-a5ce951a-6b06-40e5-bb0c-a1da65fd54a2')\"\n",
              "            title=\"Convert this dataframe to an interactive table.\"\n",
              "            style=\"display:none;\">\n",
              "\n",
              "  <svg xmlns=\"http://www.w3.org/2000/svg\" height=\"24px\" viewBox=\"0 -960 960 960\">\n",
              "    <path d=\"M120-120v-720h720v720H120Zm60-500h600v-160H180v160Zm220 220h160v-160H400v160Zm0 220h160v-160H400v160ZM180-400h160v-160H180v160Zm440 0h160v-160H620v160ZM180-180h160v-160H180v160Zm440 0h160v-160H620v160Z\"/>\n",
              "  </svg>\n",
              "    </button>\n",
              "\n",
              "  <style>\n",
              "    .colab-df-container {\n",
              "      display:flex;\n",
              "      gap: 12px;\n",
              "    }\n",
              "\n",
              "    .colab-df-convert {\n",
              "      background-color: #E8F0FE;\n",
              "      border: none;\n",
              "      border-radius: 50%;\n",
              "      cursor: pointer;\n",
              "      display: none;\n",
              "      fill: #1967D2;\n",
              "      height: 32px;\n",
              "      padding: 0 0 0 0;\n",
              "      width: 32px;\n",
              "    }\n",
              "\n",
              "    .colab-df-convert:hover {\n",
              "      background-color: #E2EBFA;\n",
              "      box-shadow: 0px 1px 2px rgba(60, 64, 67, 0.3), 0px 1px 3px 1px rgba(60, 64, 67, 0.15);\n",
              "      fill: #174EA6;\n",
              "    }\n",
              "\n",
              "    .colab-df-buttons div {\n",
              "      margin-bottom: 4px;\n",
              "    }\n",
              "\n",
              "    [theme=dark] .colab-df-convert {\n",
              "      background-color: #3B4455;\n",
              "      fill: #D2E3FC;\n",
              "    }\n",
              "\n",
              "    [theme=dark] .colab-df-convert:hover {\n",
              "      background-color: #434B5C;\n",
              "      box-shadow: 0px 1px 3px 1px rgba(0, 0, 0, 0.15);\n",
              "      filter: drop-shadow(0px 1px 2px rgba(0, 0, 0, 0.3));\n",
              "      fill: #FFFFFF;\n",
              "    }\n",
              "  </style>\n",
              "\n",
              "    <script>\n",
              "      const buttonEl =\n",
              "        document.querySelector('#df-a5ce951a-6b06-40e5-bb0c-a1da65fd54a2 button.colab-df-convert');\n",
              "      buttonEl.style.display =\n",
              "        google.colab.kernel.accessAllowed ? 'block' : 'none';\n",
              "\n",
              "      async function convertToInteractive(key) {\n",
              "        const element = document.querySelector('#df-a5ce951a-6b06-40e5-bb0c-a1da65fd54a2');\n",
              "        const dataTable =\n",
              "          await google.colab.kernel.invokeFunction('convertToInteractive',\n",
              "                                                    [key], {});\n",
              "        if (!dataTable) return;\n",
              "\n",
              "        const docLinkHtml = 'Like what you see? Visit the ' +\n",
              "          '<a target=\"_blank\" href=https://colab.research.google.com/notebooks/data_table.ipynb>data table notebook</a>'\n",
              "          + ' to learn more about interactive tables.';\n",
              "        element.innerHTML = '';\n",
              "        dataTable['output_type'] = 'display_data';\n",
              "        await google.colab.output.renderOutput(dataTable, element);\n",
              "        const docLink = document.createElement('div');\n",
              "        docLink.innerHTML = docLinkHtml;\n",
              "        element.appendChild(docLink);\n",
              "      }\n",
              "    </script>\n",
              "  </div>\n",
              "\n",
              "\n",
              "    <div id=\"df-537696d5-27d6-438f-ab22-3aff3ed62f25\">\n",
              "      <button class=\"colab-df-quickchart\" onclick=\"quickchart('df-537696d5-27d6-438f-ab22-3aff3ed62f25')\"\n",
              "                title=\"Suggest charts\"\n",
              "                style=\"display:none;\">\n",
              "\n",
              "<svg xmlns=\"http://www.w3.org/2000/svg\" height=\"24px\"viewBox=\"0 0 24 24\"\n",
              "     width=\"24px\">\n",
              "    <g>\n",
              "        <path d=\"M19 3H5c-1.1 0-2 .9-2 2v14c0 1.1.9 2 2 2h14c1.1 0 2-.9 2-2V5c0-1.1-.9-2-2-2zM9 17H7v-7h2v7zm4 0h-2V7h2v10zm4 0h-2v-4h2v4z\"/>\n",
              "    </g>\n",
              "</svg>\n",
              "      </button>\n",
              "\n",
              "<style>\n",
              "  .colab-df-quickchart {\n",
              "      --bg-color: #E8F0FE;\n",
              "      --fill-color: #1967D2;\n",
              "      --hover-bg-color: #E2EBFA;\n",
              "      --hover-fill-color: #174EA6;\n",
              "      --disabled-fill-color: #AAA;\n",
              "      --disabled-bg-color: #DDD;\n",
              "  }\n",
              "\n",
              "  [theme=dark] .colab-df-quickchart {\n",
              "      --bg-color: #3B4455;\n",
              "      --fill-color: #D2E3FC;\n",
              "      --hover-bg-color: #434B5C;\n",
              "      --hover-fill-color: #FFFFFF;\n",
              "      --disabled-bg-color: #3B4455;\n",
              "      --disabled-fill-color: #666;\n",
              "  }\n",
              "\n",
              "  .colab-df-quickchart {\n",
              "    background-color: var(--bg-color);\n",
              "    border: none;\n",
              "    border-radius: 50%;\n",
              "    cursor: pointer;\n",
              "    display: none;\n",
              "    fill: var(--fill-color);\n",
              "    height: 32px;\n",
              "    padding: 0;\n",
              "    width: 32px;\n",
              "  }\n",
              "\n",
              "  .colab-df-quickchart:hover {\n",
              "    background-color: var(--hover-bg-color);\n",
              "    box-shadow: 0 1px 2px rgba(60, 64, 67, 0.3), 0 1px 3px 1px rgba(60, 64, 67, 0.15);\n",
              "    fill: var(--button-hover-fill-color);\n",
              "  }\n",
              "\n",
              "  .colab-df-quickchart-complete:disabled,\n",
              "  .colab-df-quickchart-complete:disabled:hover {\n",
              "    background-color: var(--disabled-bg-color);\n",
              "    fill: var(--disabled-fill-color);\n",
              "    box-shadow: none;\n",
              "  }\n",
              "\n",
              "  .colab-df-spinner {\n",
              "    border: 2px solid var(--fill-color);\n",
              "    border-color: transparent;\n",
              "    border-bottom-color: var(--fill-color);\n",
              "    animation:\n",
              "      spin 1s steps(1) infinite;\n",
              "  }\n",
              "\n",
              "  @keyframes spin {\n",
              "    0% {\n",
              "      border-color: transparent;\n",
              "      border-bottom-color: var(--fill-color);\n",
              "      border-left-color: var(--fill-color);\n",
              "    }\n",
              "    20% {\n",
              "      border-color: transparent;\n",
              "      border-left-color: var(--fill-color);\n",
              "      border-top-color: var(--fill-color);\n",
              "    }\n",
              "    30% {\n",
              "      border-color: transparent;\n",
              "      border-left-color: var(--fill-color);\n",
              "      border-top-color: var(--fill-color);\n",
              "      border-right-color: var(--fill-color);\n",
              "    }\n",
              "    40% {\n",
              "      border-color: transparent;\n",
              "      border-right-color: var(--fill-color);\n",
              "      border-top-color: var(--fill-color);\n",
              "    }\n",
              "    60% {\n",
              "      border-color: transparent;\n",
              "      border-right-color: var(--fill-color);\n",
              "    }\n",
              "    80% {\n",
              "      border-color: transparent;\n",
              "      border-right-color: var(--fill-color);\n",
              "      border-bottom-color: var(--fill-color);\n",
              "    }\n",
              "    90% {\n",
              "      border-color: transparent;\n",
              "      border-bottom-color: var(--fill-color);\n",
              "    }\n",
              "  }\n",
              "</style>\n",
              "\n",
              "      <script>\n",
              "        async function quickchart(key) {\n",
              "          const quickchartButtonEl =\n",
              "            document.querySelector('#' + key + ' button');\n",
              "          quickchartButtonEl.disabled = true;  // To prevent multiple clicks.\n",
              "          quickchartButtonEl.classList.add('colab-df-spinner');\n",
              "          try {\n",
              "            const charts = await google.colab.kernel.invokeFunction(\n",
              "                'suggestCharts', [key], {});\n",
              "          } catch (error) {\n",
              "            console.error('Error during call to suggestCharts:', error);\n",
              "          }\n",
              "          quickchartButtonEl.classList.remove('colab-df-spinner');\n",
              "          quickchartButtonEl.classList.add('colab-df-quickchart-complete');\n",
              "        }\n",
              "        (() => {\n",
              "          let quickchartButtonEl =\n",
              "            document.querySelector('#df-537696d5-27d6-438f-ab22-3aff3ed62f25 button');\n",
              "          quickchartButtonEl.style.display =\n",
              "            google.colab.kernel.accessAllowed ? 'block' : 'none';\n",
              "        })();\n",
              "      </script>\n",
              "    </div>\n",
              "\n",
              "    </div>\n",
              "  </div>\n"
            ],
            "application/vnd.google.colaboratory.intrinsic+json": {
              "type": "dataframe",
              "variable_name": "df_fake",
              "summary": "{\n  \"name\": \"df_fake\",\n  \"rows\": 70000,\n  \"fields\": [\n    {\n      \"column\": \"Value\",\n      \"properties\": {\n        \"dtype\": \"float32\",\n        \"num_unique_values\": 69826,\n        \"samples\": [\n          -0.0720408707857132,\n          0.6694670915603638,\n          0.4318211078643799\n        ],\n        \"semantic_type\": \"\",\n        \"description\": \"\"\n      }\n    },\n    {\n      \"column\": \"Value_HeatPump\",\n      \"properties\": {\n        \"dtype\": \"float32\",\n        \"num_unique_values\": 69766,\n        \"samples\": [\n          0.3078089952468872,\n          0.30120474100112915,\n          0.24619998037815094\n        ],\n        \"semantic_type\": \"\",\n        \"description\": \"\"\n      }\n    },\n    {\n      \"column\": \"Value_OtherAppliances\",\n      \"properties\": {\n        \"dtype\": \"float32\",\n        \"num_unique_values\": 69818,\n        \"samples\": [\n          0.450673907995224,\n          0.848892092704773,\n          0.296822726726532\n        ],\n        \"semantic_type\": \"\",\n        \"description\": \"\"\n      }\n    }\n  ]\n}"
            }
          },
          "metadata": {},
          "execution_count": 89
        }
      ],
      "source": [
        "df_fake.head()"
      ]
    },
    {
      "cell_type": "code",
      "execution_count": 91,
      "metadata": {
        "id": "xcn0gvo64XQk"
      },
      "outputs": [],
      "source": [
        "# statistical overlap\n",
        "def evaluate_statistics(sequence_data,synthetic):\n",
        "    real_flat = sequence_data.reshape(-1, sequence_data.shape[-1])\n",
        "    fake_flat = synthetic.reshape(-1, synthetic.shape[-1])\n",
        "\n",
        "    stats = {}\n",
        "    for i, feature_name in enumerate(features):\n",
        "        real_mean = np.mean(real_flat[:, i])\n",
        "        fake_mean = np.mean(fake_flat[:, i])\n",
        "        real_std = np.std(real_flat[:, i])\n",
        "        fake_std = np.std(fake_flat[:, i])\n",
        "\n",
        "        stats[feature_name] = {\n",
        "            \"real_mean\": real_mean,\n",
        "            \"fake_mean\": fake_mean,\n",
        "            \"real_std\": real_std,\n",
        "            \"fake_std\": fake_std\n",
        "        }\n",
        "    return stats"
      ]
    },
    {
      "cell_type": "code",
      "execution_count": 92,
      "metadata": {
        "colab": {
          "base_uri": "https://localhost:8080/"
        },
        "id": "u6TTq0zxaLqc",
        "outputId": "31c0b22a-850b-412e-f4eb-09943e22d557"
      },
      "outputs": [
        {
          "output_type": "stream",
          "name": "stdout",
          "text": [
            "Value: Real μ=0.359, Fake μ=0.401 | Real σ=0.244, Fake σ=0.252\n",
            "Value_HeatPump: Real μ=0.349, Fake μ=0.352 | Real σ=0.229, Fake σ=0.220\n",
            "Value_OtherAppliances: Real μ=0.360, Fake μ=0.381 | Real σ=0.251, Fake σ=0.216\n"
          ]
        }
      ],
      "source": [
        "# Evaluate\n",
        "stats = evaluate_statistics(sequence_data, synthetic)\n",
        "for feat, s in stats.items():\n",
        "    print(f\"{feat}: Real μ={s['real_mean']:.3f}, Fake μ={s['fake_mean']:.3f} | Real σ={s['real_std']:.3f}, Fake σ={s['fake_std']:.3f}\")"
      ]
    },
    {
      "cell_type": "code",
      "execution_count": 93,
      "metadata": {
        "colab": {
          "base_uri": "https://localhost:8080/",
          "height": 492
        },
        "id": "BonbC4AkavmX",
        "outputId": "cde94ccd-85ab-4b7f-c60b-da6460a90763"
      },
      "outputs": [
        {
          "output_type": "display_data",
          "data": {
            "text/plain": [
              "<Figure size 1400x500 with 2 Axes>"
            ],
            "image/png": "[encoded data removed]"
          },
          "metadata": {}
        }
      ],
      "source": [
        "import matplotlib.pyplot as plt\n",
        "import numpy as np\n",
        "\n",
        "# Assuming 'stats' is the output dictionary from evaluate_statistics()\n",
        "features = list(stats.keys())\n",
        "real_means = [stats[f]['real_mean'] for f in features]\n",
        "fake_means = [stats[f]['fake_mean'] for f in features]\n",
        "real_stds = [stats[f]['real_std'] for f in features]\n",
        "fake_stds = [stats[f]['fake_std'] for f in features]\n",
        "\n",
        "x = np.arange(len(features))  # label locations\n",
        "width = 0.35  # width of the bars\n",
        "\n",
        "fig, axs = plt.subplots(1, 2, figsize=(14, 5))\n",
        "\n",
        "# Plot means\n",
        "axs[0].bar(x - width/2, real_means, width, label='Real', color='skyblue')\n",
        "axs[0].bar(x + width/2, fake_means, width, label='Synthetic', color='salmon')\n",
        "axs[0].set_ylabel('Mean')\n",
        "axs[0].set_title('Mean Comparison per Feature')\n",
        "axs[0].set_xticks(x)\n",
        "axs[0].set_xticklabels(features, rotation=45)\n",
        "axs[0].legend()\n",
        "\n",
        "# Plot stds\n",
        "axs[1].bar(x - width/2, real_stds, width, label='Real', color='skyblue')\n",
        "axs[1].bar(x + width/2, fake_stds, width, label='Synthetic', color='salmon')\n",
        "axs[1].set_ylabel('Standard Deviation')\n",
        "axs[1].set_title('Standard Deviation Comparison per Feature')\n",
        "axs[1].set_xticks(x)\n",
        "axs[1].set_xticklabels(features, rotation=45)\n",
        "axs[1].legend()\n",
        "\n",
        "plt.tight_layout()\n",
        "plt.show()\n"
      ]
    },
    {
      "cell_type": "code",
      "execution_count": 94,
      "metadata": {
        "colab": {
          "base_uri": "https://localhost:8080/",
          "height": 369
        },
        "id": "CYPFSA3McT0_",
        "outputId": "21492943-4cd0-4f21-9b2e-db5a671919d1"
      },
      "outputs": [
        {
          "output_type": "display_data",
          "data": {
            "text/plain": [
              "<Figure size 1500x400 with 3 Axes>"
            ],
            "image/png": "[encoded data removed]"
          },
          "metadata": {}
        }
      ],
      "source": [
        "import seaborn as sns\n",
        "import matplotlib.pyplot as plt\n",
        "import pandas as pd\n",
        "import numpy as np\n",
        "\n",
        "# Example variable shapes:\n",
        "# sequence_data: shape (n_samples, seq_len, n_features)\n",
        "# synthetic: shape (n_samples, seq_len, n_features)\n",
        "\n",
        "# Assume feature names are in correct order from `stats.keys()`\n",
        "feature_names = list(stats.keys())\n",
        "\n",
        "# Reshape from (samples, time, features) to (samples * time, features)\n",
        "real_reshaped = sequence_data.reshape(-1, sequence_data.shape[2])\n",
        "synthetic_reshaped = synthetic.reshape(-1, synthetic.shape[2])\n",
        "\n",
        "# Create DataFrames\n",
        "real_df = pd.DataFrame(real_reshaped, columns=feature_names)\n",
        "real_df[\"Source\"] = \"Real\"\n",
        "\n",
        "synthetic_df = pd.DataFrame(synthetic_reshaped, columns=feature_names)\n",
        "synthetic_df[\"Source\"] = \"Synthetic\"\n",
        "\n",
        "# Combine for plotting\n",
        "combined_df = pd.concat([real_df, synthetic_df], axis=0)\n",
        "\n",
        "# Plot distributions\n",
        "num_features = len(feature_names)\n",
        "cols = 3\n",
        "rows = (num_features + cols - 1) // cols\n",
        "\n",
        "plt.figure(figsize=(5 * cols, 4 * rows))\n",
        "\n",
        "for i, feature in enumerate(feature_names):\n",
        "    plt.subplot(rows, cols, i + 1)\n",
        "    sns.kdeplot(data=combined_df, x=feature, hue=\"Source\", fill=True, common_norm=False, alpha=0.5)\n",
        "    plt.title(f\"Distribution of {feature}\")\n",
        "    plt.xlabel(feature)\n",
        "    plt.ylabel(\"Density\")\n",
        "\n",
        "plt.tight_layout()\n",
        "plt.show()\n"
      ]
    },
    {
      "cell_type": "code",
      "execution_count": 54,
      "metadata": {
        "colab": {
          "base_uri": "https://localhost:8080/"
        },
        "id": "vZqeMm9nvtzj",
        "outputId": "e75f8a3b-37f7-4a4a-e6d5-f31c9816384a"
      },
      "outputs": [
        {
          "output_type": "stream",
          "name": "stdout",
          "text": [
            "Requirement already satisfied: tslearn in /usr/local/lib/python3.11/dist-packages (0.6.3)\n",
            "Requirement already satisfied: numpy in /usr/local/lib/python3.11/dist-packages (from tslearn) (2.0.2)\n",
            "Requirement already satisfied: scipy in /usr/local/lib/python3.11/dist-packages (from tslearn) (1.15.2)\n",
            "Requirement already satisfied: scikit-learn in /usr/local/lib/python3.11/dist-packages (from tslearn) (1.6.1)\n",
            "Requirement already satisfied: numba in /usr/local/lib/python3.11/dist-packages (from tslearn) (0.60.0)\n",
            "Requirement already satisfied: joblib in /usr/local/lib/python3.11/dist-packages (from tslearn) (1.5.0)\n",
            "Requirement already satisfied: llvmlite<0.44,>=0.43.0dev0 in /usr/local/lib/python3.11/dist-packages (from numba->tslearn) (0.43.0)\n",
            "Requirement already satisfied: threadpoolctl>=3.1.0 in /usr/local/lib/python3.11/dist-packages (from scikit-learn->tslearn) (3.6.0)\n",
            "Requirement already satisfied: tabulate in /usr/local/lib/python3.11/dist-packages (0.9.0)\n"
          ]
        }
      ],
      "source": [
        "!pip install tslearn\n",
        "!pip install tabulate"
      ]
    },
    {
      "cell_type": "code",
      "execution_count": 95,
      "metadata": {
        "id": "jiRazWizw66m"
      },
      "outputs": [],
      "source": [
        "import numpy as np\n",
        "from scipy.stats import wasserstein_distance\n",
        "from scipy.special import rel_entr\n",
        "from statsmodels.tsa.stattools import acf"
      ]
    },
    {
      "cell_type": "code",
      "source": [
        "# If data was scaled with MinMaxScaler before training\n",
        "real_sequences = scaler.inverse_transform(sequence_data.reshape(-1, FEATURE_DIM)).reshape(-1, SEQ_LENGTH, FEATURE_DIM)\n",
        "generated_sequences = scaler.inverse_transform(synthetic.reshape(-1, FEATURE_DIM)).reshape(-1, SEQ_LENGTH, FEATURE_DIM)"
      ],
      "metadata": {
        "id": "Tk4x52u4d_v_"
      },
      "execution_count": 96,
      "outputs": []
    },
    {
      "cell_type": "code",
      "source": [
        "import numpy as np\n",
        "from scipy.stats import entropy, wasserstein_distance\n",
        "\n",
        "\n",
        "# === Metric Functions ===\n",
        "def kl_divergence(p, q):\n",
        "    p += 1e-8\n",
        "    q += 1e-8\n",
        "    return entropy(p, q)\n",
        "\n",
        "def js_divergence(p, q):\n",
        "    p += 1e-8\n",
        "    q += 1e-8\n",
        "    m = 0.5 * (p + q)\n",
        "    return 0.5 * (entropy(p, m) + entropy(q, m))\n",
        "\n",
        "# === Evaluation Function ===\n",
        "def evaluate_gan_outputs(real_sequences, generated_sequences, feature_names=None):\n",
        "    if isinstance(real_sequences, tf.Tensor):\n",
        "        real_sequences = real_sequences.numpy()\n",
        "    if isinstance(generated_sequences, tf.Tensor):\n",
        "        generated_sequences = generated_sequences.numpy()\n",
        "\n",
        "    real_flat = real_sequences.reshape(-1, real_sequences.shape[-1])\n",
        "    gen_flat = generated_sequences.reshape(-1, generated_sequences.shape[-1])\n",
        "    n_features = real_flat.shape[-1]\n",
        "\n",
        "    print(\"\\n📊 GAN Evaluation Metrics\")\n",
        "    for i in range(n_features):\n",
        "        real_vals = real_flat[:, i]\n",
        "        gen_vals = gen_flat[:, i]\n",
        "\n",
        "        # Histogram for divergence metrics\n",
        "        # Use density=True for normalized histograms suitable for divergence measures\n",
        "        bins = np.histogram_bin_edges(np.concatenate([real_vals, gen_vals]), bins=\"auto\")\n",
        "        real_hist, _ = np.histogram(real_vals, bins=bins, density=True)\n",
        "        gen_hist, _ = np.histogram(gen_vals, bins=bins, density=True)\n",
        "\n",
        "        # Although density=True normalizes, explicitly re-normalizing\n",
        "        # helps handle potential floating point issues and ensures sum is exactly 1.\n",
        "        real_hist /= (np.sum(real_hist) + 1e-8) # Add small epsilon to avoid division by zero\n",
        "        gen_hist /= (np.sum(gen_hist) + 1e-8)   # Add small epsilon\n",
        "\n",
        "        # Metrics\n",
        "        kl = kl_divergence(real_hist, gen_hist)\n",
        "        js = js_divergence(real_hist, gen_hist)\n",
        "        wd = wasserstein_distance(real_vals, gen_vals)\n",
        "\n",
        "        fname = feature_names[i] if feature_names else f\"Feature {i+1}\"\n",
        "        print(f\"\\n🔹 {fname}\")\n",
        "        print(f\"  - KL Divergence        : {kl:.4f}\")\n",
        "        print(f\"  - JS Divergence        : {js:.4f}\")\n",
        "        print(f\"  - Wasserstein Distance : {wd:.4f}\")\n",
        "        # Removed MSE and MAE output"
      ],
      "metadata": {
        "id": "WXoLyKRki0Dn"
      },
      "execution_count": 97,
      "outputs": []
    },
    {
      "cell_type": "code",
      "source": [
        "evaluate_gan_outputs(\n",
        "    real_sequences=real_sequences,\n",
        "    generated_sequences=synthetic,\n",
        "    feature_names=[\"Value\", \"Value_HeatPump\", \"Value_OtherAppliances\", \"dow_sin\", \"dow_cos\"] # Added the missing feature names\n",
        ")"
      ],
      "metadata": {
        "colab": {
          "base_uri": "https://localhost:8080/"
        },
        "id": "N0sM_pvXhYBt",
        "outputId": "4085cfd2-a02a-4ae1-968c-5ebaa1c4e5f3"
      },
      "execution_count": 98,
      "outputs": [
        {
          "output_type": "stream",
          "name": "stdout",
          "text": [
            "\n",
            "📊 GAN Evaluation Metrics\n",
            "\n",
            "🔹 Value\n",
            "  - KL Divergence        : 11.6787\n",
            "  - JS Divergence        : 0.6930\n",
            "  - Wasserstein Distance : 49.9554\n",
            "\n",
            "🔹 Value_HeatPump\n",
            "  - KL Divergence        : 11.7472\n",
            "  - JS Divergence        : 0.6863\n",
            "  - Wasserstein Distance : 28.1701\n",
            "\n",
            "🔹 Value_OtherAppliances\n",
            "  - KL Divergence        : 11.6993\n",
            "  - JS Divergence        : 0.6828\n",
            "  - Wasserstein Distance : 21.4534\n"
          ]
        }
      ]
    },
    {
      "cell_type": "code",
      "execution_count": 68,
      "metadata": {
        "id": "_YyTlnQvciGG",
        "colab": {
          "base_uri": "https://localhost:8080/",
          "height": 216
        },
        "outputId": "4f2b2891-f849-4d61-9f34-a25e25eaebf3"
      },
      "outputs": [
        {
          "output_type": "error",
          "ename": "NameError",
          "evalue": "name 'compute_kl_divergence' is not defined",
          "traceback": [
            "\u001b[0;31m---------------------------------------------------------------------------\u001b[0m",
            "\u001b[0;31mNameError\u001b[0m                                 Traceback (most recent call last)",
            "\u001b[0;32m<ipython-input-68-c486907fd0f9>\u001b[0m in \u001b[0;36m<cell line: 0>\u001b[0;34m()\u001b[0m\n\u001b[0;32m----> 1\u001b[0;31m \u001b[0mkl\u001b[0m \u001b[0;34m=\u001b[0m \u001b[0mcompute_kl_divergence\u001b[0m\u001b[0;34m(\u001b[0m\u001b[0msequence_data\u001b[0m\u001b[0;34m,\u001b[0m \u001b[0msynthetic\u001b[0m\u001b[0;34m)\u001b[0m\u001b[0;34m\u001b[0m\u001b[0;34m\u001b[0m\u001b[0m\n\u001b[0m\u001b[1;32m      2\u001b[0m \u001b[0mwd\u001b[0m \u001b[0;34m=\u001b[0m \u001b[0mcompute_wasserstein_distance\u001b[0m\u001b[0;34m(\u001b[0m\u001b[0msequence_data\u001b[0m\u001b[0;34m,\u001b[0m \u001b[0msynthetic\u001b[0m\u001b[0;34m)\u001b[0m\u001b[0;34m\u001b[0m\u001b[0;34m\u001b[0m\u001b[0m\n\u001b[1;32m      3\u001b[0m \u001b[0macf_diff\u001b[0m \u001b[0;34m=\u001b[0m \u001b[0mautocorrelation_score\u001b[0m\u001b[0;34m(\u001b[0m\u001b[0msequence_data\u001b[0m\u001b[0;34m,\u001b[0m \u001b[0msynthetic\u001b[0m\u001b[0;34m)\u001b[0m\u001b[0;34m\u001b[0m\u001b[0;34m\u001b[0m\u001b[0m\n\u001b[1;32m      4\u001b[0m \u001b[0;34m\u001b[0m\u001b[0m\n\u001b[1;32m      5\u001b[0m \u001b[0mprint\u001b[0m\u001b[0;34m(\u001b[0m\u001b[0;34m\"KL Divergence (per feature):\"\u001b[0m\u001b[0;34m,\u001b[0m \u001b[0mkl\u001b[0m\u001b[0;34m)\u001b[0m\u001b[0;34m\u001b[0m\u001b[0;34m\u001b[0m\u001b[0m\n",
            "\u001b[0;31mNameError\u001b[0m: name 'compute_kl_divergence' is not defined"
          ]
        }
      ],
      "source": [
        "\n",
        "\n",
        "kl = compute_kl_divergence(sequence_data, synthetic)\n",
        "wd = compute_wasserstein_distance(sequence_data, synthetic)\n",
        "acf_diff = autocorrelation_score(sequence_data, synthetic)\n",
        "\n",
        "print(\"KL Divergence (per feature):\", kl)\n",
        "print(\"Wasserstein Distance (per feature):\", wd)\n",
        "print(\"Autocorrelation MSE (per feature):\", acf_diff)\n"
      ]
    }
  ],
  "metadata": {
    "colab": {
      "provenance": [],
      "mount_file_id": "1wICh2xn0-sEbSvU6OrQf2xfrAlS9t2-r",
      "authorship_tag": "ABX9TyNc0LBxbcHkkPlZnMjuQvSh",
      "include_colab_link": true
    },
    "kernelspec": {
      "display_name": "Python 3",
      "name": "python3"
    },
    "language_info": {
      "name": "python"
    }
  },
  "nbformat": 4,
  "nbformat_minor": 0
}